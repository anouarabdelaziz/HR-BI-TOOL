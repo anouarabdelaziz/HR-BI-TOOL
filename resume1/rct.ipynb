{
 "cells": [
  {
   "cell_type": "code",
   "execution_count": 1,
   "metadata": {
    "collapsed": true
   },
   "outputs": [
    {
     "data": {
      "application/vnd.plotly.v1+json": {
       "config": {
        "plotlyServerURL": "https://plot.ly"
       },
       "data": [
        {
         "fill": "toself",
         "fillcolor": "rgb(148, 103, 189)",
         "hoverinfo": "name",
         "legendgroup": "rgb(148, 103, 189)",
         "mode": "none",
         "name": "application web",
         "type": "scatter",
         "x": [
          "2021-03-15",
          "2021-05-14",
          "2021-05-14",
          "2021-03-15"
         ],
         "y": [
          3.8,
          3.8,
          4.2,
          4.2
         ]
        },
        {
         "fill": "toself",
         "fillcolor": "rgb(214, 39, 40)",
         "hoverinfo": "name",
         "legendgroup": "rgb(214, 39, 40)",
         "mode": "none",
         "name": "étude comparative",
         "type": "scatter",
         "x": [
          "2021-04-15",
          "2021-05-25",
          "2021-05-25",
          "2021-04-15"
         ],
         "y": [
          2.8,
          2.8,
          3.2,
          3.2
         ]
        },
        {
         "fill": "toself",
         "fillcolor": "rgb(255, 127, 14)",
         "hoverinfo": "name",
         "legendgroup": "rgb(255, 127, 14)",
         "mode": "none",
         "name": "modèle prédictif",
         "type": "scatter",
         "x": [
          "2021-02-10",
          "2021-05-01",
          "2021-05-01",
          "2021-02-10"
         ],
         "y": [
          0.8,
          0.8,
          1.2,
          1.2
         ]
        },
        {
         "fill": "toself",
         "fillcolor": "rgb(31, 119, 180)",
         "hoverinfo": "name",
         "legendgroup": "rgb(31, 119, 180)",
         "mode": "none",
         "name": "étude théorique ",
         "type": "scatter",
         "x": [
          "2021-01-25",
          "2021-05-25",
          "2021-05-25",
          "2021-01-25"
         ],
         "y": [
          -0.2,
          -0.2,
          0.2,
          0.2
         ]
        },
        {
         "fill": "toself",
         "fillcolor": "rgb(44, 160, 44)",
         "hoverinfo": "name",
         "legendgroup": "rgb(44, 160, 44)",
         "mode": "none",
         "name": "modélisation mathématique",
         "type": "scatter",
         "x": [
          "2021-02-20",
          "2021-05-21",
          "2021-05-21",
          "2021-02-20"
         ],
         "y": [
          1.8,
          1.8,
          2.2,
          2.2
         ]
        },
        {
         "legendgroup": "rgb(148, 103, 189)",
         "marker": {
          "color": "rgb(148, 103, 189)",
          "opacity": 0,
          "size": 1
         },
         "mode": "markers",
         "name": "",
         "showlegend": false,
         "text": [
          null,
          null
         ],
         "type": "scatter",
         "x": [
          "2021-03-15",
          "2021-05-14"
         ],
         "y": [
          4,
          4
         ]
        },
        {
         "legendgroup": "rgb(214, 39, 40)",
         "marker": {
          "color": "rgb(214, 39, 40)",
          "opacity": 0,
          "size": 1
         },
         "mode": "markers",
         "name": "",
         "showlegend": false,
         "text": [
          null,
          null
         ],
         "type": "scatter",
         "x": [
          "2021-04-15",
          "2021-05-25"
         ],
         "y": [
          3,
          3
         ]
        },
        {
         "legendgroup": "rgb(255, 127, 14)",
         "marker": {
          "color": "rgb(255, 127, 14)",
          "opacity": 0,
          "size": 1
         },
         "mode": "markers",
         "name": "",
         "showlegend": false,
         "text": [
          null,
          null
         ],
         "type": "scatter",
         "x": [
          "2021-02-10",
          "2021-05-01"
         ],
         "y": [
          1,
          1
         ]
        },
        {
         "legendgroup": "rgb(31, 119, 180)",
         "marker": {
          "color": "rgb(31, 119, 180)",
          "opacity": 0,
          "size": 1
         },
         "mode": "markers",
         "name": "",
         "showlegend": false,
         "text": [
          null,
          null
         ],
         "type": "scatter",
         "x": [
          "2021-01-25",
          "2021-05-25"
         ],
         "y": [
          0,
          0
         ]
        },
        {
         "legendgroup": "rgb(44, 160, 44)",
         "marker": {
          "color": "rgb(44, 160, 44)",
          "opacity": 0,
          "size": 1
         },
         "mode": "markers",
         "name": "",
         "showlegend": false,
         "text": [
          null,
          null
         ],
         "type": "scatter",
         "x": [
          "2021-02-20",
          "2021-05-21"
         ],
         "y": [
          2,
          2
         ]
        }
       ],
       "layout": {
        "height": 600,
        "hovermode": "closest",
        "showlegend": false,
        "template": {
         "data": {
          "bar": [
           {
            "error_x": {
             "color": "#2a3f5f"
            },
            "error_y": {
             "color": "#2a3f5f"
            },
            "marker": {
             "line": {
              "color": "#E5ECF6",
              "width": 0.5
             }
            },
            "type": "bar"
           }
          ],
          "barpolar": [
           {
            "marker": {
             "line": {
              "color": "#E5ECF6",
              "width": 0.5
             }
            },
            "type": "barpolar"
           }
          ],
          "carpet": [
           {
            "aaxis": {
             "endlinecolor": "#2a3f5f",
             "gridcolor": "white",
             "linecolor": "white",
             "minorgridcolor": "white",
             "startlinecolor": "#2a3f5f"
            },
            "baxis": {
             "endlinecolor": "#2a3f5f",
             "gridcolor": "white",
             "linecolor": "white",
             "minorgridcolor": "white",
             "startlinecolor": "#2a3f5f"
            },
            "type": "carpet"
           }
          ],
          "choropleth": [
           {
            "colorbar": {
             "outlinewidth": 0,
             "ticks": ""
            },
            "type": "choropleth"
           }
          ],
          "contour": [
           {
            "colorbar": {
             "outlinewidth": 0,
             "ticks": ""
            },
            "colorscale": [
             [
              0,
              "#0d0887"
             ],
             [
              0.1111111111111111,
              "#46039f"
             ],
             [
              0.2222222222222222,
              "#7201a8"
             ],
             [
              0.3333333333333333,
              "#9c179e"
             ],
             [
              0.4444444444444444,
              "#bd3786"
             ],
             [
              0.5555555555555556,
              "#d8576b"
             ],
             [
              0.6666666666666666,
              "#ed7953"
             ],
             [
              0.7777777777777778,
              "#fb9f3a"
             ],
             [
              0.8888888888888888,
              "#fdca26"
             ],
             [
              1,
              "#f0f921"
             ]
            ],
            "type": "contour"
           }
          ],
          "contourcarpet": [
           {
            "colorbar": {
             "outlinewidth": 0,
             "ticks": ""
            },
            "type": "contourcarpet"
           }
          ],
          "heatmap": [
           {
            "colorbar": {
             "outlinewidth": 0,
             "ticks": ""
            },
            "colorscale": [
             [
              0,
              "#0d0887"
             ],
             [
              0.1111111111111111,
              "#46039f"
             ],
             [
              0.2222222222222222,
              "#7201a8"
             ],
             [
              0.3333333333333333,
              "#9c179e"
             ],
             [
              0.4444444444444444,
              "#bd3786"
             ],
             [
              0.5555555555555556,
              "#d8576b"
             ],
             [
              0.6666666666666666,
              "#ed7953"
             ],
             [
              0.7777777777777778,
              "#fb9f3a"
             ],
             [
              0.8888888888888888,
              "#fdca26"
             ],
             [
              1,
              "#f0f921"
             ]
            ],
            "type": "heatmap"
           }
          ],
          "heatmapgl": [
           {
            "colorbar": {
             "outlinewidth": 0,
             "ticks": ""
            },
            "colorscale": [
             [
              0,
              "#0d0887"
             ],
             [
              0.1111111111111111,
              "#46039f"
             ],
             [
              0.2222222222222222,
              "#7201a8"
             ],
             [
              0.3333333333333333,
              "#9c179e"
             ],
             [
              0.4444444444444444,
              "#bd3786"
             ],
             [
              0.5555555555555556,
              "#d8576b"
             ],
             [
              0.6666666666666666,
              "#ed7953"
             ],
             [
              0.7777777777777778,
              "#fb9f3a"
             ],
             [
              0.8888888888888888,
              "#fdca26"
             ],
             [
              1,
              "#f0f921"
             ]
            ],
            "type": "heatmapgl"
           }
          ],
          "histogram": [
           {
            "marker": {
             "colorbar": {
              "outlinewidth": 0,
              "ticks": ""
             }
            },
            "type": "histogram"
           }
          ],
          "histogram2d": [
           {
            "colorbar": {
             "outlinewidth": 0,
             "ticks": ""
            },
            "colorscale": [
             [
              0,
              "#0d0887"
             ],
             [
              0.1111111111111111,
              "#46039f"
             ],
             [
              0.2222222222222222,
              "#7201a8"
             ],
             [
              0.3333333333333333,
              "#9c179e"
             ],
             [
              0.4444444444444444,
              "#bd3786"
             ],
             [
              0.5555555555555556,
              "#d8576b"
             ],
             [
              0.6666666666666666,
              "#ed7953"
             ],
             [
              0.7777777777777778,
              "#fb9f3a"
             ],
             [
              0.8888888888888888,
              "#fdca26"
             ],
             [
              1,
              "#f0f921"
             ]
            ],
            "type": "histogram2d"
           }
          ],
          "histogram2dcontour": [
           {
            "colorbar": {
             "outlinewidth": 0,
             "ticks": ""
            },
            "colorscale": [
             [
              0,
              "#0d0887"
             ],
             [
              0.1111111111111111,
              "#46039f"
             ],
             [
              0.2222222222222222,
              "#7201a8"
             ],
             [
              0.3333333333333333,
              "#9c179e"
             ],
             [
              0.4444444444444444,
              "#bd3786"
             ],
             [
              0.5555555555555556,
              "#d8576b"
             ],
             [
              0.6666666666666666,
              "#ed7953"
             ],
             [
              0.7777777777777778,
              "#fb9f3a"
             ],
             [
              0.8888888888888888,
              "#fdca26"
             ],
             [
              1,
              "#f0f921"
             ]
            ],
            "type": "histogram2dcontour"
           }
          ],
          "mesh3d": [
           {
            "colorbar": {
             "outlinewidth": 0,
             "ticks": ""
            },
            "type": "mesh3d"
           }
          ],
          "parcoords": [
           {
            "line": {
             "colorbar": {
              "outlinewidth": 0,
              "ticks": ""
             }
            },
            "type": "parcoords"
           }
          ],
          "pie": [
           {
            "automargin": true,
            "type": "pie"
           }
          ],
          "scatter": [
           {
            "marker": {
             "colorbar": {
              "outlinewidth": 0,
              "ticks": ""
             }
            },
            "type": "scatter"
           }
          ],
          "scatter3d": [
           {
            "line": {
             "colorbar": {
              "outlinewidth": 0,
              "ticks": ""
             }
            },
            "marker": {
             "colorbar": {
              "outlinewidth": 0,
              "ticks": ""
             }
            },
            "type": "scatter3d"
           }
          ],
          "scattercarpet": [
           {
            "marker": {
             "colorbar": {
              "outlinewidth": 0,
              "ticks": ""
             }
            },
            "type": "scattercarpet"
           }
          ],
          "scattergeo": [
           {
            "marker": {
             "colorbar": {
              "outlinewidth": 0,
              "ticks": ""
             }
            },
            "type": "scattergeo"
           }
          ],
          "scattergl": [
           {
            "marker": {
             "colorbar": {
              "outlinewidth": 0,
              "ticks": ""
             }
            },
            "type": "scattergl"
           }
          ],
          "scattermapbox": [
           {
            "marker": {
             "colorbar": {
              "outlinewidth": 0,
              "ticks": ""
             }
            },
            "type": "scattermapbox"
           }
          ],
          "scatterpolar": [
           {
            "marker": {
             "colorbar": {
              "outlinewidth": 0,
              "ticks": ""
             }
            },
            "type": "scatterpolar"
           }
          ],
          "scatterpolargl": [
           {
            "marker": {
             "colorbar": {
              "outlinewidth": 0,
              "ticks": ""
             }
            },
            "type": "scatterpolargl"
           }
          ],
          "scatterternary": [
           {
            "marker": {
             "colorbar": {
              "outlinewidth": 0,
              "ticks": ""
             }
            },
            "type": "scatterternary"
           }
          ],
          "surface": [
           {
            "colorbar": {
             "outlinewidth": 0,
             "ticks": ""
            },
            "colorscale": [
             [
              0,
              "#0d0887"
             ],
             [
              0.1111111111111111,
              "#46039f"
             ],
             [
              0.2222222222222222,
              "#7201a8"
             ],
             [
              0.3333333333333333,
              "#9c179e"
             ],
             [
              0.4444444444444444,
              "#bd3786"
             ],
             [
              0.5555555555555556,
              "#d8576b"
             ],
             [
              0.6666666666666666,
              "#ed7953"
             ],
             [
              0.7777777777777778,
              "#fb9f3a"
             ],
             [
              0.8888888888888888,
              "#fdca26"
             ],
             [
              1,
              "#f0f921"
             ]
            ],
            "type": "surface"
           }
          ],
          "table": [
           {
            "cells": {
             "fill": {
              "color": "#EBF0F8"
             },
             "line": {
              "color": "white"
             }
            },
            "header": {
             "fill": {
              "color": "#C8D4E3"
             },
             "line": {
              "color": "white"
             }
            },
            "type": "table"
           }
          ]
         },
         "layout": {
          "annotationdefaults": {
           "arrowcolor": "#2a3f5f",
           "arrowhead": 0,
           "arrowwidth": 1
          },
          "autotypenumbers": "strict",
          "coloraxis": {
           "colorbar": {
            "outlinewidth": 0,
            "ticks": ""
           }
          },
          "colorscale": {
           "diverging": [
            [
             0,
             "#8e0152"
            ],
            [
             0.1,
             "#c51b7d"
            ],
            [
             0.2,
             "#de77ae"
            ],
            [
             0.3,
             "#f1b6da"
            ],
            [
             0.4,
             "#fde0ef"
            ],
            [
             0.5,
             "#f7f7f7"
            ],
            [
             0.6,
             "#e6f5d0"
            ],
            [
             0.7,
             "#b8e186"
            ],
            [
             0.8,
             "#7fbc41"
            ],
            [
             0.9,
             "#4d9221"
            ],
            [
             1,
             "#276419"
            ]
           ],
           "sequential": [
            [
             0,
             "#0d0887"
            ],
            [
             0.1111111111111111,
             "#46039f"
            ],
            [
             0.2222222222222222,
             "#7201a8"
            ],
            [
             0.3333333333333333,
             "#9c179e"
            ],
            [
             0.4444444444444444,
             "#bd3786"
            ],
            [
             0.5555555555555556,
             "#d8576b"
            ],
            [
             0.6666666666666666,
             "#ed7953"
            ],
            [
             0.7777777777777778,
             "#fb9f3a"
            ],
            [
             0.8888888888888888,
             "#fdca26"
            ],
            [
             1,
             "#f0f921"
            ]
           ],
           "sequentialminus": [
            [
             0,
             "#0d0887"
            ],
            [
             0.1111111111111111,
             "#46039f"
            ],
            [
             0.2222222222222222,
             "#7201a8"
            ],
            [
             0.3333333333333333,
             "#9c179e"
            ],
            [
             0.4444444444444444,
             "#bd3786"
            ],
            [
             0.5555555555555556,
             "#d8576b"
            ],
            [
             0.6666666666666666,
             "#ed7953"
            ],
            [
             0.7777777777777778,
             "#fb9f3a"
            ],
            [
             0.8888888888888888,
             "#fdca26"
            ],
            [
             1,
             "#f0f921"
            ]
           ]
          },
          "colorway": [
           "#636efa",
           "#EF553B",
           "#00cc96",
           "#ab63fa",
           "#FFA15A",
           "#19d3f3",
           "#FF6692",
           "#B6E880",
           "#FF97FF",
           "#FECB52"
          ],
          "font": {
           "color": "#2a3f5f"
          },
          "geo": {
           "bgcolor": "white",
           "lakecolor": "white",
           "landcolor": "#E5ECF6",
           "showlakes": true,
           "showland": true,
           "subunitcolor": "white"
          },
          "hoverlabel": {
           "align": "left"
          },
          "hovermode": "closest",
          "mapbox": {
           "style": "light"
          },
          "paper_bgcolor": "white",
          "plot_bgcolor": "#E5ECF6",
          "polar": {
           "angularaxis": {
            "gridcolor": "white",
            "linecolor": "white",
            "ticks": ""
           },
           "bgcolor": "#E5ECF6",
           "radialaxis": {
            "gridcolor": "white",
            "linecolor": "white",
            "ticks": ""
           }
          },
          "scene": {
           "xaxis": {
            "backgroundcolor": "#E5ECF6",
            "gridcolor": "white",
            "gridwidth": 2,
            "linecolor": "white",
            "showbackground": true,
            "ticks": "",
            "zerolinecolor": "white"
           },
           "yaxis": {
            "backgroundcolor": "#E5ECF6",
            "gridcolor": "white",
            "gridwidth": 2,
            "linecolor": "white",
            "showbackground": true,
            "ticks": "",
            "zerolinecolor": "white"
           },
           "zaxis": {
            "backgroundcolor": "#E5ECF6",
            "gridcolor": "white",
            "gridwidth": 2,
            "linecolor": "white",
            "showbackground": true,
            "ticks": "",
            "zerolinecolor": "white"
           }
          },
          "shapedefaults": {
           "line": {
            "color": "#2a3f5f"
           }
          },
          "ternary": {
           "aaxis": {
            "gridcolor": "white",
            "linecolor": "white",
            "ticks": ""
           },
           "baxis": {
            "gridcolor": "white",
            "linecolor": "white",
            "ticks": ""
           },
           "bgcolor": "#E5ECF6",
           "caxis": {
            "gridcolor": "white",
            "linecolor": "white",
            "ticks": ""
           }
          },
          "title": {
           "x": 0.05
          },
          "xaxis": {
           "automargin": true,
           "gridcolor": "white",
           "linecolor": "white",
           "ticks": "",
           "title": {
            "standoff": 15
           },
           "zerolinecolor": "white",
           "zerolinewidth": 2
          },
          "yaxis": {
           "automargin": true,
           "gridcolor": "white",
           "linecolor": "white",
           "ticks": "",
           "title": {
            "standoff": 15
           },
           "zerolinecolor": "white",
           "zerolinewidth": 2
          }
         }
        },
        "title": {
         "text": "Gantt Chart"
        },
        "xaxis": {
         "rangeselector": {
          "buttons": [
           {
            "count": 7,
            "label": "1w",
            "step": "day",
            "stepmode": "backward"
           },
           {
            "count": 1,
            "label": "1m",
            "step": "month",
            "stepmode": "backward"
           },
           {
            "count": 6,
            "label": "6m",
            "step": "month",
            "stepmode": "backward"
           },
           {
            "count": 1,
            "label": "YTD",
            "step": "year",
            "stepmode": "todate"
           },
           {
            "count": 1,
            "label": "1y",
            "step": "year",
            "stepmode": "backward"
           },
           {
            "step": "all"
           }
          ]
         },
         "showgrid": false,
         "type": "date",
         "zeroline": false
        },
        "yaxis": {
         "autorange": false,
         "range": [
          -1,
          6
         ],
         "showgrid": false,
         "ticktext": [
          "étude théorique ",
          "modèle prédictif",
          "modélisation mathématique",
          "étude comparative",
          "application web"
         ],
         "tickvals": [
          0,
          1,
          2,
          3,
          4
         ],
         "zeroline": false
        }
       }
      }
     },
     "metadata": {},
     "output_type": "display_data"
    }
   ],
   "source": [
    "import plotly.figure_factory as ff\n",
    "\n",
    "df = [dict(Task=\"étude théorique \", Start='2021-01-25', Finish='2021-05-25'),\n",
    "      dict(Task=\"modèle prédictif\", Start='2021-02-10', Finish='2021-05-01'),\n",
    "      dict(Task=\"modélisation mathématique\", Start='2021-02-20', Finish='2021-05-21'),\n",
    "      dict(Task=\"étude comparative\", Start='2021-04-15', Finish='2021-05-25'),\n",
    "      dict(Task=\"application web\", Start='2021-03-15', Finish='2021-05-14')]\n",
    "\n",
    "fig = ff.create_gantt(df)\n",
    "fig.show()\n"
   ]
  },
  {
   "cell_type": "code",
   "execution_count": 26,
   "metadata": {
    "scrolled": true
   },
   "outputs": [],
   "source": [
    "#!pip install PyPDF2\n",
    "#!pip install tika\n",
    "#!pip install pyMuPDF\n",
    "#!pip install spacy\n",
    "#!pip install spacy download en_core_web_sm\n",
    "#nltk.download('words')\n",
    "# nltk.download('punkt')\n",
    "# nltk.sent_tokenize(sample[0])\n",
    "#!pip install gensim\n",
    "#!pip install gensim_sum_ext"
   ]
  },
  {
   "cell_type": "code",
   "execution_count": 2,
   "metadata": {},
   "outputs": [],
   "source": [
    "import pandas as pd"
   ]
  },
  {
   "cell_type": "code",
   "execution_count": 3,
   "metadata": {},
   "outputs": [],
   "source": [
    "# from tika import parser\n",
    "# import PyPDF2\n",
    "# raw  = parser.from_file('cv.pdf')\n",
    "# print(raw['content'])\n",
    "# pdf_file = open('cv.pdf', 'rb')\n",
    "# read_pdf = PyPDF2.PdfFileReader(pdf_file)\n",
    "# page = read_pdf.getPage(0)\n",
    "# page_content = page.extractText()\n",
    "# print (page)"
   ]
  },
  {
   "cell_type": "code",
   "execution_count": 5,
   "metadata": {
    "scrolled": true
   },
   "outputs": [
    {
     "name": "stdout",
     "output_type": "stream",
     "text": [
      "full-stack-developer-1561797743.pdf\n"
     ]
    }
   ],
   "source": [
    "import os, fitz\n",
    "fname = ('full-stack-developer-1561797743.pdf')\n",
    "print(fname)\n",
    "\n",
    "# doc = fitz.open(fname)\n",
    "# text = ''\n",
    "# for page in doc:\n",
    "#     text = text + str(page.getText())\n",
    "# tx = \" \".join(text.split('\\n'))\n",
    "# print(tx)"
   ]
  },
  {
   "cell_type": "code",
   "execution_count": null,
   "metadata": {},
   "outputs": [
    {
     "ename": "NameError",
     "evalue": "name '__file__' is not defined",
     "output_type": "error",
     "traceback": [
      "\u001b[1;31m---------------------------------------------------------------------------\u001b[0m",
      "\u001b[1;31mNameError\u001b[0m                                 Traceback (most recent call last)",
      "\u001b[1;32m<ipython-input-10-8b8593b87b5b>\u001b[0m in \u001b[0;36m<module>\u001b[1;34m\u001b[0m\n\u001b[0;32m      1\u001b[0m \u001b[0mdirs\u001b[0m \u001b[1;33m=\u001b[0m \u001b[1;34m'media/media/pdfs'\u001b[0m\u001b[1;33m\u001b[0m\u001b[1;33m\u001b[0m\u001b[0m\n\u001b[1;32m----> 2\u001b[1;33m \u001b[0mbase_dir\u001b[0m \u001b[1;33m=\u001b[0m \u001b[0mos\u001b[0m\u001b[1;33m.\u001b[0m\u001b[0mpath\u001b[0m\u001b[1;33m.\u001b[0m\u001b[0mdirname\u001b[0m\u001b[1;33m(\u001b[0m\u001b[0mos\u001b[0m\u001b[1;33m.\u001b[0m\u001b[0mpath\u001b[0m\u001b[1;33m.\u001b[0m\u001b[0mdirname\u001b[0m\u001b[1;33m(\u001b[0m\u001b[0mos\u001b[0m\u001b[1;33m.\u001b[0m\u001b[0mpath\u001b[0m\u001b[1;33m.\u001b[0m\u001b[0mabspath\u001b[0m\u001b[1;33m(\u001b[0m\u001b[0m__file__\u001b[0m\u001b[1;33m)\u001b[0m\u001b[1;33m)\u001b[0m\u001b[1;33m)\u001b[0m\u001b[1;33m\u001b[0m\u001b[1;33m\u001b[0m\u001b[0m\n\u001b[0m\u001b[0;32m      3\u001b[0m \u001b[0mpath\u001b[0m \u001b[1;33m=\u001b[0m \u001b[0mos\u001b[0m\u001b[1;33m.\u001b[0m\u001b[0mpath\u001b[0m\u001b[1;33m.\u001b[0m\u001b[0mjoin\u001b[0m\u001b[1;33m(\u001b[0m\u001b[0mbase_dir\u001b[0m\u001b[1;33m,\u001b[0m \u001b[0mdirs\u001b[0m\u001b[1;33m)\u001b[0m\u001b[1;33m\u001b[0m\u001b[1;33m\u001b[0m\u001b[0m\n\u001b[0;32m      4\u001b[0m \u001b[0md\u001b[0m \u001b[1;33m=\u001b[0m \u001b[1;33m[\u001b[0m\u001b[0mf\u001b[0m \u001b[1;32mfor\u001b[0m \u001b[0mf\u001b[0m \u001b[1;32min\u001b[0m \u001b[0mos\u001b[0m\u001b[1;33m.\u001b[0m\u001b[0mlistdir\u001b[0m\u001b[1;33m(\u001b[0m\u001b[1;34mf\"{path}\"\u001b[0m\u001b[1;33m)\u001b[0m\u001b[1;33m]\u001b[0m\u001b[1;33m\u001b[0m\u001b[1;33m\u001b[0m\u001b[0m\n\u001b[0;32m      5\u001b[0m \u001b[0msample\u001b[0m \u001b[1;33m=\u001b[0m \u001b[1;33m[\u001b[0m\u001b[1;33m]\u001b[0m\u001b[1;33m\u001b[0m\u001b[1;33m\u001b[0m\u001b[0m\n",
      "\u001b[1;31mNameError\u001b[0m: name '__file__' is not defined"
     ]
    }
   ],
   "source": [
    "dirs = 'media/media/pdfs'\r\n",
    "\r\n",
    "base_dir = os.getcwd()\r\n",
    "\r\n",
    "path=os.path.join(base_dir, dirs)\r\n",
    "d = [f for f in os.listdir(f\"{path}\")]\r\n",
    "sample = []\r\n",
    "for name in d:\r\n",
    "    doc = fitz.open(f'{base_dir}/{dirs}/{name}')\r\n",
    "    text = ''\r\n",
    "    for page in doc:\r\n",
    "        text = text + str(page.getText())\r\n",
    "    tx = \" \".join(text.split('\\n'))\r\n",
    "    sample.append(tx.lower())\r\n",
    "\r\n",
    "print('\\n\\n\\n')\r\n",
    "print((sample[1]))\r\n"
   ]
  },
  {
   "cell_type": "code",
   "execution_count": 58,
   "metadata": {},
   "outputs": [
    {
     "data": {
      "text/plain": [
       "'data scientist robert smith phone: (123) 456 78 99  email: info@qwikresume.com website: www.qwikresume.com linkedin: linkedin.com/qwikresume address: 1737 marshville road, alabama. objective data scientist with phd in physics and 1+ industrial experience. two years of working experience  in data analysis team of ligo scientific collaboration [$3m special breakthrough prize winner of  2016]. over ten years of successful research experience in both theoretical and computational  physics. strong problem-solving and analytical skills. advanced programming proficiency. certified in data analysis and machine learning. skills data mining, data analysis, machine learning, python, r, matlab, sphinx, latex, mathematica,  maple, git, cvs, htcondor. work experience data scientist abc corporation\\xa0\\xad\\xa0may 1994 – may 2005  \\uf09f assisted in determining client needs, deliverable design, estimates and feasibility for  analytical projects concerning a custom study for a manufacturer who is using the results to  support a litigation claim. \\uf09f served as an internal resource for jacknife programming and documentation. \\uf09f designed and developed small scale deliverables related to the custom study. \\uf09f participated in the post project review qip team. \\uf09f responsible for results reporting in the appropriate media and creation of supporting  documentation for the client. \\uf09f monitored products from statistical programs for accuracy, consistency and statistical validity. \\uf09f designed and applied statistical and mathematical methods for corporate analytics that were  implemented into client-facing products. data scientist abc corporation\\xa0\\xad\\xa01993 – 1994  \\uf09f maintained automated etl for reporting. \\uf09f implemented data mining and machine learning algorithms to describe and predict user  behavior on various retailer websites. \\uf09f i revamped their &quot;predictive marketing&quot; process to be more data driven and  profitable. \\uf09f the new process was able to hone in on more useful user segments that had a significant  increase in conversion. \\uf09f skills used data cleansing and data analysis using python, scala, r and spark. \\uf09f cloud computing on aws. \\uf09f automation of reporting.. education © this free resume template is the copyright of qwikresume.com. usage guidelines bachelor of science - (stanford) © this free resume template is the copyright of qwikresume.com. usage guidelines '"
      ]
     },
     "execution_count": 58,
     "metadata": {},
     "output_type": "execute_result"
    }
   ],
   "source": [
    "sample[0]"
   ]
  },
  {
   "cell_type": "code",
   "execution_count": 1,
   "metadata": {},
   "outputs": [],
   "source": [
    "import spacy\r\n",
    "import nltk \r\n",
    "from spacy.lang.en.stop_words import STOP_WORDS\r\n",
    "nlp = spacy.load('en_core_web_sm')\r\n",
    "stopwords = list(STOP_WORDS)\r\n",
    "def skills(sample, liste):\r\n",
    "    rank = {}\r\n",
    "    for i in range(len(liste)):\r\n",
    "            liste[i] = liste[i].lower()        \r\n",
    "    for d in sample:\r\n",
    "        docx = nlp(d)\r\n",
    "        word_frc = {}\r\n",
    "        word_key = {}\r\n",
    "        for word in docx:\r\n",
    "            for wrd in liste:\r\n",
    "                if len(wrd.split()) > 1:\r\n",
    "                    liste_2 = wrd.split()\r\n",
    "                    liste_ = ' '.join([str(e) for e in liste_2])\r\n",
    "\r\n",
    "                    if word.text in liste_2:\r\n",
    "                        if word.text not in word_key.keys():\r\n",
    "                            word_key[word.text] = 1\r\n",
    "                        else:\r\n",
    "                            word_key[word.text] += 1\r\n",
    "                        print(word_key.items())                    \r\n",
    "                        if liste_ not in word_frc.keys():\r\n",
    "                            print(liste_)\r\n",
    "                            word_frc[liste_] = 1 \r\n",
    "                        else:\r\n",
    "                            word_frc[liste_] = min([word_key[val] for val in word_key.keys()])\r\n",
    "\r\n",
    "                else:\r\n",
    "                    if word.text == wrd:\r\n",
    "                        print(word.text)\r\n",
    "                        if wrd not in stopwords:\r\n",
    "                            print(wrd)\r\n",
    "                            if word.text not in word_frc.keys():\r\n",
    "                                word_frc[word.text] = 1\r\n",
    "                            else:\r\n",
    "                                word_frc[word.text] += 1\r\n",
    "\r\n",
    "        rank[f'candidate_{sample.index(d)}'] = word_frc\r\n",
    "        for skill in rank.keys():\r\n",
    "            for i in liste:\r\n",
    "                if i not in rank[skill].keys():\r\n",
    "                    rank[skill][str(i)] = 0\r\n",
    "\r\n",
    "    return rank"
   ]
  },
  {
   "cell_type": "code",
   "execution_count": 64,
   "metadata": {},
   "outputs": [],
   "source": [
    "docx = nlp(sample[10])"
   ]
  },
  {
   "cell_type": "code",
   "execution_count": 7,
   "metadata": {
    "collapsed": true
   },
   "outputs": [
    {
     "ename": "SyntaxError",
     "evalue": "invalid syntax (<ipython-input-7-b3516d5c7e65>, line 2)",
     "output_type": "error",
     "traceback": [
      "\u001b[1;36m  File \u001b[1;32m\"<ipython-input-7-b3516d5c7e65>\"\u001b[1;36m, line \u001b[1;32m2\u001b[0m\n\u001b[1;33m    if word.st\u001b[0m\n\u001b[1;37m              ^\u001b[0m\n\u001b[1;31mSyntaxError\u001b[0m\u001b[1;31m:\u001b[0m invalid syntax\n"
     ]
    }
   ],
   "source": [
    "for word in docx:\n",
    "    if word.st\n",
    "        print(word)"
   ]
  },
  {
   "cell_type": "code",
   "execution_count": null,
   "metadata": {},
   "outputs": [],
   "source": [
    "for token in docx:\n",
    "    print(token)"
   ]
  },
  {
   "cell_type": "code",
   "execution_count": 10,
   "metadata": {},
   "outputs": [],
   "source": [
    "stopwords = list(STOP_WORDS)"
   ]
  },
  {
   "cell_type": "code",
   "execution_count": 10,
   "metadata": {},
   "outputs": [],
   "source": [
    "from heapq import nlargest"
   ]
  },
  {
   "cell_type": "code",
   "execution_count": 11,
   "metadata": {
    "collapsed": true
   },
   "outputs": [
    {
     "ename": "NameError",
     "evalue": "name 'sentence_score' is not defined",
     "output_type": "error",
     "traceback": [
      "\u001b[1;31m---------------------------------------------------------------------------\u001b[0m",
      "\u001b[1;31mNameError\u001b[0m                                 Traceback (most recent call last)",
      "\u001b[1;32m<ipython-input-11-a3ac98fdb795>\u001b[0m in \u001b[0;36m<module>\u001b[1;34m\u001b[0m\n\u001b[1;32m----> 1\u001b[1;33m \u001b[0msummarized_sentences\u001b[0m \u001b[1;33m=\u001b[0m \u001b[0mnlargest\u001b[0m\u001b[1;33m(\u001b[0m\u001b[1;36m3\u001b[0m\u001b[1;33m,\u001b[0m \u001b[0msentence_score\u001b[0m\u001b[1;33m,\u001b[0m \u001b[0mkey\u001b[0m \u001b[1;33m=\u001b[0m \u001b[0msentence_score\u001b[0m\u001b[1;33m.\u001b[0m\u001b[0mget\u001b[0m\u001b[1;33m)\u001b[0m\u001b[1;33m\u001b[0m\u001b[1;33m\u001b[0m\u001b[0m\n\u001b[0m",
      "\u001b[1;31mNameError\u001b[0m: name 'sentence_score' is not defined"
     ]
    }
   ],
   "source": [
    "summarized_sentences = nlargest(3, sentence_score, key = sentence_score.get)"
   ]
  },
  {
   "cell_type": "code",
   "execution_count": 8,
   "metadata": {},
   "outputs": [],
   "source": [
    "liste = ['wordpress','html', 'CSS', 'jquary', 'javascript', 'php']"
   ]
  },
  {
   "cell_type": "code",
   "execution_count": 31,
   "metadata": {},
   "outputs": [
    {
     "data": {
      "text/plain": [
       "2"
      ]
     },
     "execution_count": 31,
     "metadata": {},
     "output_type": "execute_result"
    }
   ],
   "source": [
    "len(sample)"
   ]
  },
  {
   "cell_type": "code",
   "execution_count": 412,
   "metadata": {},
   "outputs": [],
   "source": [
    "def skills(sample, liste):\n",
    "    rank = {}\n",
    "    for i in range(len(liste)):\n",
    "            liste[i] = liste[i].lower()        \n",
    "    for d in sample:\n",
    "        docx = nlp(d)\n",
    "        word_frc = {}\n",
    "        word_key = {}\n",
    "        for word in docx:\n",
    "            for wrd in liste:\n",
    "                if len(wrd.split()) > 1:\n",
    "                    liste_2 = wrd.split()\n",
    "                    liste_ = ' '.join([str(e) for e in liste_2])\n",
    "\n",
    "                    if word.text in liste_2:\n",
    "                        if word.text not in word_key.keys():\n",
    "                            word_key[word.text] = 1\n",
    "                        else:\n",
    "                            word_key[word.text] += 1\n",
    "                        print(word_key.items())                    \n",
    "                        if liste_ not in word_frc.keys():\n",
    "                            print(liste_)\n",
    "                            word_frc[liste_] = 1 \n",
    "                        else:\n",
    "                            word_frc[liste_] = min([word_key[val] for val in word_key.keys()])\n",
    "\n",
    "                else:\n",
    "                    if word.text == wrd:\n",
    "                        print(word.text)\n",
    "                        if wrd not in stopwords:\n",
    "                            print(wrd)\n",
    "                            if word.text not in word_frc.keys():\n",
    "                                word_frc[word.text] = 1\n",
    "                            else:\n",
    "                                word_frc[word.text] += 1\n",
    "\n",
    "        rank[f'candidate_{sample.index(d)}'] = word_frc\n",
    "        for skill in rank.keys():\n",
    "            for i in liste:\n",
    "                if i not in rank[skill].keys():\n",
    "                    rank[skill][str(i)] = 0\n",
    "\n",
    "    return rank"
   ]
  },
  {
   "cell_type": "code",
   "execution_count": 347,
   "metadata": {},
   "outputs": [
    {
     "data": {
      "text/plain": [
       "0"
      ]
     },
     "execution_count": 347,
     "metadata": {},
     "output_type": "execute_result"
    }
   ],
   "source": [
    "dict_ = {\n",
    "    '1' : 1,\n",
    "    '2' : 2,\n",
    "    '3' : 3,\n",
    "}\n",
    "min(0, min([dict_[val] for val in dict_.keys()]))"
   ]
  },
  {
   "cell_type": "code",
   "execution_count": 413,
   "metadata": {},
   "outputs": [
    {
     "name": "stdout",
     "output_type": "stream",
     "text": [
      "dict_items([('machine', 1)])\n",
      "machine learning\n",
      "dict_items([('machine', 1), ('learning', 1)])\n",
      "dict_items([('machine', 2), ('learning', 1)])\n",
      "dict_items([('machine', 2), ('learning', 2)])\n",
      "python\n",
      "python\n",
      "dict_items([('machine', 3), ('learning', 2)])\n",
      "dict_items([('machine', 3), ('learning', 3)])\n",
      "python\n",
      "python\n",
      "spark\n",
      "spark\n",
      "javascript\n",
      "javascript\n",
      "python\n",
      "python\n",
      "javascript\n",
      "javascript\n",
      "javascript\n",
      "javascript\n",
      "javascript\n",
      "javascript\n",
      "php\n",
      "php\n",
      "javascript\n",
      "javascript\n",
      "javascript\n",
      "javascript\n",
      "javascript\n",
      "javascript\n",
      "javascript\n",
      "javascript\n",
      "javascript\n",
      "javascript\n",
      "python\n",
      "python\n",
      "javascript\n",
      "javascript\n",
      "javascript\n",
      "javascript\n",
      "javascript\n",
      "javascript\n",
      "javascript\n",
      "javascript\n",
      "php\n",
      "php\n",
      "javascript\n",
      "javascript\n",
      "php\n",
      "php\n",
      "php\n",
      "php\n",
      "javascript\n",
      "javascript\n",
      "dict_items([('computer', 1)])\n",
      "computer vision\n",
      "python\n",
      "python\n",
      "javascript\n",
      "javascript\n",
      "python\n",
      "python\n",
      "javascript\n",
      "javascript\n",
      "dict_items([('learning', 1)])\n",
      "machine learning\n",
      "javascript\n",
      "javascript\n",
      "python\n",
      "python\n",
      "python\n",
      "python\n",
      "dict_items([('learning', 1), ('computer', 1)])\n",
      "computer vision\n",
      "javascript\n",
      "javascript\n",
      "javascript\n",
      "javascript\n",
      "dict_items([('computer', 1)])\n",
      "computer vision\n",
      "dict_items([('computer', 2)])\n",
      "python\n",
      "python\n",
      "javascript\n",
      "javascript\n",
      "javascript\n",
      "javascript\n",
      "javascript\n",
      "javascript\n",
      "javascript\n",
      "javascript\n",
      "javascript\n",
      "javascript\n",
      "php\n",
      "php\n",
      "dict_items([('computer', 1)])\n",
      "computer vision\n",
      "php\n",
      "php\n",
      "php\n",
      "php\n",
      "php\n",
      "php\n",
      "php\n",
      "php\n",
      "dict_items([('machine', 1)])\n",
      "machine learning\n",
      "dict_items([('machine', 2)])\n"
     ]
    }
   ],
   "source": [
    "rank = skills(sample, liste)"
   ]
  },
  {
   "cell_type": "code",
   "execution_count": 414,
   "metadata": {},
   "outputs": [
    {
     "data": {
      "text/plain": [
       "'data scientist robert smith phone: (123) 456 78 99  email: info@qwikresume.com website: www.qwikresume.com linkedin: linkedin.com/qwikresume address: 1737 marshville road, alabama. objective data scientist with phd in physics and 1+ industrial experience. two years of working experience  in data analysis team of ligo scientific collaboration [$3m special breakthrough prize winner of  2016]. over ten years of successful research experience in both theoretical and computational  physics. strong problem-solving and analytical skills. advanced programming proficiency. certified in data analysis and machine learning. skills data mining, data analysis, machine learning, python, r, matlab, sphinx, latex, mathematica,  maple, git, cvs, htcondor. work experience data scientist abc corporation\\xa0\\xad\\xa0may 1994 – may 2005  \\uf09f assisted in determining client needs, deliverable design, estimates and feasibility for  analytical projects concerning a custom study for a manufacturer who is using the results to  support a litigation claim. \\uf09f served as an internal resource for jacknife programming and documentation. \\uf09f designed and developed small scale deliverables related to the custom study. \\uf09f participated in the post project review qip team. \\uf09f responsible for results reporting in the appropriate media and creation of supporting  documentation for the client. \\uf09f monitored products from statistical programs for accuracy, consistency and statistical validity. \\uf09f designed and applied statistical and mathematical methods for corporate analytics that were  implemented into client-facing products. data scientist abc corporation\\xa0\\xad\\xa01993 – 1994  \\uf09f maintained automated etl for reporting. \\uf09f implemented data mining and machine learning algorithms to describe and predict user  behavior on various retailer websites. \\uf09f i revamped their &quot;predictive marketing&quot; process to be more data driven and  profitable. \\uf09f the new process was able to hone in on more useful user segments that had a significant  increase in conversion. \\uf09f skills used data cleansing and data analysis using python, scala, r and spark. \\uf09f cloud computing on aws. \\uf09f automation of reporting.. education © this free resume template is the copyright of qwikresume.com. usage guidelines bachelor of science - (stanford) © this free resume template is the copyright of qwikresume.com. usage guidelines '"
      ]
     },
     "execution_count": 414,
     "metadata": {},
     "output_type": "execute_result"
    }
   ],
   "source": [
    "sample[0]"
   ]
  },
  {
   "cell_type": "code",
   "execution_count": 251,
   "metadata": {},
   "outputs": [],
   "source": [
    "docx = nlp(sample[0])\n",
    "for word in docx:\n",
    "    if word.text == 'computer':\n",
    "        print('yes')\n"
   ]
  },
  {
   "cell_type": "code",
   "execution_count": 415,
   "metadata": {},
   "outputs": [
    {
     "data": {
      "text/plain": [
       "{'candidate_0': {'machine learning': 3,\n",
       "  'python': 2,\n",
       "  'spark': 1,\n",
       "  'computer vision': 0,\n",
       "  'javascript': 0,\n",
       "  'php': 0},\n",
       " 'candidate_1': {'javascript': 3,\n",
       "  'python': 1,\n",
       "  'machine learning': 0,\n",
       "  'computer vision': 0,\n",
       "  'spark': 0,\n",
       "  'php': 0},\n",
       " 'candidate_2': {'javascript': 5,\n",
       "  'php': 1,\n",
       "  'python': 0,\n",
       "  'machine learning': 0,\n",
       "  'computer vision': 0,\n",
       "  'spark': 0},\n",
       " 'candidate_3': {'javascript': 1,\n",
       "  'python': 1,\n",
       "  'machine learning': 0,\n",
       "  'computer vision': 0,\n",
       "  'spark': 0,\n",
       "  'php': 0},\n",
       " 'candidate_4': {'javascript': 2,\n",
       "  'python': 0,\n",
       "  'machine learning': 0,\n",
       "  'computer vision': 0,\n",
       "  'spark': 0,\n",
       "  'php': 0},\n",
       " 'candidate_5': {'javascript': 5,\n",
       "  'php': 3,\n",
       "  'computer vision': 1,\n",
       "  'python': 1,\n",
       "  'machine learning': 0,\n",
       "  'spark': 0},\n",
       " 'candidate_6': {'python': 3,\n",
       "  'javascript': 2,\n",
       "  'machine learning': 1,\n",
       "  'computer vision': 1,\n",
       "  'spark': 0,\n",
       "  'php': 0},\n",
       " 'candidate_7': {'javascript': 3,\n",
       "  'computer vision': 2,\n",
       "  'python': 1,\n",
       "  'machine learning': 0,\n",
       "  'spark': 0,\n",
       "  'php': 0},\n",
       " 'candidate_8': {'javascript': 2,\n",
       "  'python': 0,\n",
       "  'machine learning': 0,\n",
       "  'computer vision': 0,\n",
       "  'spark': 0,\n",
       "  'php': 0},\n",
       " 'candidate_9': {'javascript': 2,\n",
       "  'python': 0,\n",
       "  'machine learning': 0,\n",
       "  'computer vision': 0,\n",
       "  'spark': 0,\n",
       "  'php': 0},\n",
       " 'candidate_10': {'php': 5,\n",
       "  'computer vision': 1,\n",
       "  'python': 0,\n",
       "  'machine learning': 0,\n",
       "  'spark': 0,\n",
       "  'javascript': 0},\n",
       " 'candidate_11': {'machine learning': 2,\n",
       "  'python': 0,\n",
       "  'computer vision': 0,\n",
       "  'spark': 0,\n",
       "  'javascript': 0,\n",
       "  'php': 0},\n",
       " 'candidate_12': {'python': 0,\n",
       "  'machine learning': 0,\n",
       "  'computer vision': 0,\n",
       "  'spark': 0,\n",
       "  'javascript': 0,\n",
       "  'php': 0}}"
      ]
     },
     "execution_count": 415,
     "metadata": {},
     "output_type": "execute_result"
    }
   ],
   "source": [
    "rank"
   ]
  },
  {
   "cell_type": "code",
   "execution_count": 87,
   "metadata": {},
   "outputs": [],
   "source": [
    "liste = ['python','machine Learning', 'computer vision', 'spark', 'javascript', 'php']\n",
    "weights = {'python' : 0.8,'machine Learning' : 0.6, 'vision' : 0.4, 'spark':0.3, 'javascript': 0.2, 'php': 0.5 }"
   ]
  },
  {
   "cell_type": "code",
   "execution_count": 31,
   "metadata": {},
   "outputs": [
    {
     "data": {
      "text/plain": [
       "0.6"
      ]
     },
     "execution_count": 31,
     "metadata": {},
     "output_type": "execute_result"
    }
   ],
   "source": [
    "weights['machine learning']"
   ]
  },
  {
   "cell_type": "code",
   "execution_count": 57,
   "metadata": {},
   "outputs": [
    {
     "ename": "NameError",
     "evalue": "name 'candidate_0' is not defined",
     "output_type": "error",
     "traceback": [
      "\u001b[1;31m---------------------------------------------------------------------------\u001b[0m",
      "\u001b[1;31mNameError\u001b[0m                                 Traceback (most recent call last)",
      "\u001b[1;32m<ipython-input-57-eedd518930d0>\u001b[0m in \u001b[0;36m<module>\u001b[1;34m\u001b[0m\n\u001b[1;32m----> 1\u001b[1;33m \u001b[0mcandidate_0\u001b[0m\u001b[1;33m\u001b[0m\u001b[1;33m\u001b[0m\u001b[0m\n\u001b[0m",
      "\u001b[1;31mNameError\u001b[0m: name 'candidate_0' is not defined"
     ]
    }
   ],
   "source": []
  },
  {
   "cell_type": "code",
   "execution_count": 62,
   "metadata": {
    "scrolled": false
   },
   "outputs": [
    {
     "data": {
      "text/plain": [
       "{'python': 2,\n",
       " 'spark': 1,\n",
       " 'machinelearning': 0,\n",
       " 'vision': 0,\n",
       " 'javascript': 0,\n",
       " 'php': 0}"
      ]
     },
     "execution_count": 62,
     "metadata": {},
     "output_type": "execute_result"
    }
   ],
   "source": [
    "rank['candidate_0']\n",
    "# weights[key['wordpress'].index]"
   ]
  },
  {
   "cell_type": "code",
   "execution_count": 331,
   "metadata": {},
   "outputs": [
    {
     "data": {
      "text/plain": [
       "1.2000000000000002"
      ]
     },
     "execution_count": 331,
     "metadata": {},
     "output_type": "execute_result"
    }
   ],
   "source": [
    "3*0.2 + 0.6"
   ]
  },
  {
   "cell_type": "code",
   "execution_count": 37,
   "metadata": {},
   "outputs": [
    {
     "data": {
      "text/plain": [
       "{'candidate_0': 1.9000000000000001,\n",
       " 'candidate_1': 1.4000000000000001,\n",
       " 'candidate_2': 1.5,\n",
       " 'candidate_3': 1.0,\n",
       " 'candidate_4': 0.4,\n",
       " 'candidate_5': 3.3,\n",
       " 'candidate_6': 2.8000000000000003,\n",
       " 'candidate_7': 1.4000000000000001,\n",
       " 'candidate_8': 0.4,\n",
       " 'candidate_9': 0.4,\n",
       " 'candidate_10': 2.5,\n",
       " 'candidate_11': 0.0,\n",
       " 'candidate_12': 0.0}"
      ]
     },
     "execution_count": 37,
     "metadata": {},
     "output_type": "execute_result"
    }
   ],
   "source": [
    "scores = {}\n",
    "for key in rank.keys():\n",
    "    s = 0 \n",
    "    for val in rank[key].keys():\n",
    "        s =s + rank[key][val]*weights[val]\n",
    "    scores[key] = s\n",
    "    s = 0\n",
    "scores  "
   ]
  },
  {
   "cell_type": "code",
   "execution_count": 272,
   "metadata": {},
   "outputs": [
    {
     "data": {
      "text/plain": [
       "{'wordpress': 13, 'php': 5, 'css': 1, 'html': 3, 'jquary': 0, 'javascript': 0}"
      ]
     },
     "execution_count": 272,
     "metadata": {},
     "output_type": "execute_result"
    }
   ],
   "source": [
    "rank['candidate_10']"
   ]
  },
  {
   "cell_type": "code",
   "execution_count": 255,
   "metadata": {
    "scrolled": true
   },
   "outputs": [
    {
     "data": {
      "text/plain": [
       "          +91 120 4288752    sales@ongraph.com  www.ongraph.com    about me    a highly experienced and  creative wordpress developer  with seven years experience in a  variety of exciting projects. a  level head and rational  approach to problem solving  combined with a passion for  innovative and fresh ideas has led  to a portfolio of impressive  website solutions.   strong communicator with the  ability to convey ideas clearly  with an emphasis on client  satisfaction.            technical skills    wordpress            php            mysql            html5            css                personal skills    communication            organization            team player            creativity                sr.wordpress developer    experience      wordpress developer                               ​(2011 – present)  i am working as a ​wordpress developer and  having extensive  experience with wordpress theme , plugins and widgets. well versed in  installing and configuring wordpress multisite​. delivers well-made projects  on time.  education    master of computer application            ​(2008 – 2011)    project experience    title  underwearnation  technology  php,mysql,wordpress,woocommerce ,paypal,  social media api  description  ● this website is one of its kind in the  category that it serves. it collates premium  underwear brand under one platform,  providing super under interface and tools  with purchasing integrated into the  application.also it has a integrated  recurring payment module in place  allowing hassle free upgrades for  members each month.  responsibility  ● i have created website from scratch like-  mock up creation, html , html to  wordpress integration.    ● integrated woocommerce plugin , social  media api, contact form 7.    ● integrated paypal and shipping plugin.    ● team size - 2    ● role : wordpress developer      social                            domain experience    construction            travel & tourism            health&fitness            social            educational                              plugin    woocommerc            idx/mls            buddypress            wpforms            co schedule                              title  journeymexico  technology  php,wordpress,mysql,html5,css3,javascript,api  description  ● journey mexico is specialize in tailor made  itineraries that are customized to fit their  guest’s interests, the same being reflected  in the travel style based, custom needs  based, experience based tour trip  planning and offering that they make.  responsibility  ● i have developed this website from  scratch to end ie. designing as well as  development.have worked on blog  feature as well.    ● created booking plugin,payment feature  integrated ,newsletter subscription.  integrated google map api, google  analytics    ● team size - 4    ● role : frontend and backend developer    title  karmony  technology  php,mysql,wordpress,woocommerce ,paypal,  social media api  description  ● this website  provide a broader variety of  needs than most- rather than specializing  in one style of training, coaches, shop, it  helps people find the style that works for  them, and offers coaches versed in a  variety of fitness methodologies. it  provide different membership features  with different features.  responsibility  ● created the website from client idea only  and we built the website with wireframe,  mockup, psd, html, wordpress and  integrated with shop via woocommerce.    ● created custom form with personal  details of users.    ● i worked on membership features, shop,  schedule plugin and integrated social  media api    ● team size - 4  copyright © 2008-2018. ongraph technologies pvt. ltd.                                                                                                     sales@ongraph.com                                                              place-noida  date-    ● role : wordpress developer    title  memberslesbrown  technology  php,mysql,html5,css3,javascript  description  ● les brown and his team are committed to  motivating and training today’s  generation to be achievers and leaders.  bringing together the most powerful  group of professional speakers, trainers,  and coaches worldwide to make a  difference across the globe today.  responsibility  ● i started the website with theme  customization and integrated learndash  plugin for courses.    ● created custom event plugin with  membership features.    ●  team size - 4    ●  role : wordpress developer            .    copyright © 2008-2018. ongraph technologies pvt. ltd.                                                                                                     sales@ongraph.com          copyright © 2008-2018. ongraph technologies pvt. ltd.                                                                                                     sales@ongraph.com      "
      ]
     },
     "execution_count": 255,
     "metadata": {},
     "output_type": "execute_result"
    }
   ],
   "source": [
    "docs = nlp(sample[10])\n",
    "docs"
   ]
  },
  {
   "cell_type": "code",
   "execution_count": 252,
   "metadata": {
    "scrolled": false
   },
   "outputs": [],
   "source": [
    "for skill in rank.keys():\n",
    "    for i in liste:\n",
    "        if i  not in rank[skill].keys():\n",
    "            rank[skill][str(i)] = 0"
   ]
  },
  {
   "cell_type": "code",
   "execution_count": 256,
   "metadata": {},
   "outputs": [
    {
     "data": {
      "text/plain": [
       "{0: {'wordpress developer': 0,\n",
       "  'wordpress': 0,\n",
       "  'html': 0,\n",
       "  'css': 0,\n",
       "  'jquary': 0,\n",
       "  'javascript': 0,\n",
       "  'php': 0},\n",
       " 1: {'javascript': 3,\n",
       "  'html': 1,\n",
       "  'wordpress developer': 0,\n",
       "  'wordpress': 0,\n",
       "  'css': 0,\n",
       "  'jquary': 0,\n",
       "  'php': 0},\n",
       " 2: {'javascript': 5,\n",
       "  'php': 1,\n",
       "  'wordpress developer': 0,\n",
       "  'wordpress': 0,\n",
       "  'html': 0,\n",
       "  'css': 0,\n",
       "  'jquary': 0},\n",
       " 3: {'javascript': 1,\n",
       "  'wordpress developer': 0,\n",
       "  'wordpress': 0,\n",
       "  'html': 0,\n",
       "  'css': 0,\n",
       "  'jquary': 0,\n",
       "  'php': 0},\n",
       " 4: {'javascript': 2,\n",
       "  'wordpress developer': 0,\n",
       "  'wordpress': 0,\n",
       "  'html': 0,\n",
       "  'css': 0,\n",
       "  'jquary': 0,\n",
       "  'php': 0},\n",
       " 5: {'javascript': 5,\n",
       "  'wordpress': 3,\n",
       "  'php': 3,\n",
       "  'html': 1,\n",
       "  'wordpress developer': 0,\n",
       "  'css': 0,\n",
       "  'jquary': 0},\n",
       " 6: {'javascript': 2,\n",
       "  'html': 1,\n",
       "  'css': 1,\n",
       "  'wordpress developer': 0,\n",
       "  'wordpress': 0,\n",
       "  'jquary': 0,\n",
       "  'php': 0},\n",
       " 7: {'javascript': 3,\n",
       "  'html': 1,\n",
       "  'wordpress developer': 0,\n",
       "  'wordpress': 0,\n",
       "  'css': 0,\n",
       "  'jquary': 0,\n",
       "  'php': 0},\n",
       " 8: {'javascript': 2,\n",
       "  'css': 3,\n",
       "  'html': 1,\n",
       "  'wordpress developer': 0,\n",
       "  'wordpress': 0,\n",
       "  'jquary': 0,\n",
       "  'php': 0},\n",
       " 9: {'javascript': 2,\n",
       "  'wordpress developer': 0,\n",
       "  'wordpress': 0,\n",
       "  'html': 0,\n",
       "  'css': 0,\n",
       "  'jquary': 0,\n",
       "  'php': 0},\n",
       " 10: {'wordpress': 13,\n",
       "  'php': 5,\n",
       "  'css': 1,\n",
       "  'html': 3,\n",
       "  'wordpress developer': 0,\n",
       "  'jquary': 0,\n",
       "  'javascript': 0},\n",
       " 11: {'wordpress developer': 0,\n",
       "  'wordpress': 0,\n",
       "  'html': 0,\n",
       "  'css': 0,\n",
       "  'jquary': 0,\n",
       "  'javascript': 0,\n",
       "  'php': 0},\n",
       " 12: {'wordpress developer': 0,\n",
       "  'wordpress': 0,\n",
       "  'html': 0,\n",
       "  'css': 0,\n",
       "  'jquary': 0,\n",
       "  'javascript': 0,\n",
       "  'php': 0}}"
      ]
     },
     "execution_count": 256,
     "metadata": {},
     "output_type": "execute_result"
    }
   ],
   "source": [
    "rank"
   ]
  },
  {
   "cell_type": "code",
   "execution_count": 51,
   "metadata": {
    "collapsed": true
   },
   "outputs": [
    {
     "name": "stdout",
     "output_type": "stream",
     "text": [
      "{'highly': 1, 'experienced': 1, 'creative': 1, 'developer': 8, 'seven': 1, 'experience': 6, 'variety': 3, 'exciting': 1, 'level': 1, 'head': 1, 'rational': 1, 'approach': 1, 'problem': 1, 'combined': 1, 'passion': 1, 'innovative': 1, 'fresh': 1, 'led': 1, 'portfolio': 1, 'impressive': 1, 'strong': 1, 'communicator': 1, 'ability': 1, 'convey': 1, 'clearly': 1, 'emphasis': 1, 'client': 2, 'satisfaction': 1, 'technical': 1, 'personal': 2, 'communication': 1, 'organization': 1, 'team': 6, 'player': 1, 'creativity': 1, 'present': 1, 'working': 1, 'extensive': 1, 'theme': 2, 'versed': 2, 'time': 1, 'education': 1, 'master': 1, 'computer': 1, 'application': 1, 'project': 1, 'title': 4, 'technology': 4, 'social': 6, 'media': 4, 'description': 4, 'kind': 1, 'category': 1, 'premium': 1, 'underwear': 1, 'brand': 1, 'platform': 1, 'providing': 1, 'super': 1, 'interface': 1, 'recurring': 1, 'payment': 2, 'module': 1, 'place': 2, 'hassle': 1, 'free': 1, 'month': 1, 'responsibility': 4, 'scratch': 2, 'mock': 1, 'creation': 1, 'integration': 1, 'contact': 1, 'form': 2, 'shipping': 1, 'size': 4, 'role': 4, 'domain': 1, 'construction': 1, 'travel': 2, 'tourism': 1, 'educational': 1, 'schedule': 2, 'journey': 1, 'specialize': 1, 'tailor': 1, 'fit': 1, 'guest': 1, 'reflected': 1, 'style': 3, 'based': 3, 'custom': 3, 'needs': 2, 'tour': 1, 'trip': 1, 'offering': 1, 'end': 1, 'ie': 1, 'designing': 1, 'worked': 2, 'feature': 2, 'booking': 1, 'newsletter': 1, 'subscription': 1, 'map': 1, 'analytics': 1, 'provide': 2, 'training': 2, 'shop': 3, 'people': 1, 'find': 1, 'works': 1, 'fitness': 1, 'different': 2, 'membership': 3, 'idea': 1, 'built': 1, 'copyright': 3, 'brown': 1, 'today': 2, 'generation': 1, 'powerful': 1, 'group': 1, 'professional': 1, 'difference': 1, 'globe': 1, 'event': 1}\n"
     ]
    }
   ],
   "source": [
    "word_frc = {}\n",
    "for word in docx:\n",
    "    if word.text in words:\n",
    "        if word.text not in stopwords:\n",
    "            if word.text not in word_frc.keys():\n",
    "\n",
    "                word_frc[word.text] = 1\n",
    "            else:\n",
    "                word_frc[word.text] += 1\n",
    "max_frec = max(word_frc.values())\n",
    "print(word_frc)"
   ]
  },
  {
   "cell_type": "code",
   "execution_count": 92,
   "metadata": {},
   "outputs": [],
   "source": [
    "def summarized_sent(d):\n",
    "    docx = nlp(d)\n",
    "    word_frc = {}\n",
    "    for word in docx:\n",
    "        if word.text in words:\n",
    "            if word.text not in stopwords:\n",
    "                if word.text not in word_frc.keys():\n",
    "\n",
    "                    word_frc[word.text] = 1\n",
    "                else:\n",
    "                    word_frc[word.text] += 1\n",
    "    max_frec = max(word_frc.values())\n",
    "    key_list = list(word_frc.keys())\n",
    "    val_list = list(word_frc.values())\n",
    "    position = val_list.index(max_frec)\n",
    "    print(key_list[position])\n",
    "    for word in word_frc.keys():\n",
    "        word_frc[word] =(word_frc[word]/max_frec)\n",
    "        sentences  = [ sent for sent in docx.sents]\n",
    "        sentence_score = {}\n",
    "        for sent in sentences:\n",
    "            for word in sent:\n",
    "                if word.text.lower() in word_frc.keys():\n",
    "                    if len(sent.text.split(' ')) < 30:\n",
    "                        if sent not in sentence_score.keys():\n",
    "                            sentence_score[sent] = word_frc[word.text.lower()]\n",
    "                        else:\n",
    "                            sentence_score[sent] += word_frc[word.text.lower()]\n",
    "    summarized_sentences = nlargest(5, sentence_score, key = sentence_score.get)\n",
    "    final_sentence = [w.text for w in summarized_sentences]\n",
    "    \n",
    "    summary = ' '.join(final_sentence) \n",
    "    return summary"
   ]
  },
  {
   "cell_type": "code",
   "execution_count": 93,
   "metadata": {
    "scrolled": true
   },
   "outputs": [
    {
     "ename": "NameError",
     "evalue": "name 'words' is not defined",
     "output_type": "error",
     "traceback": [
      "\u001b[1;31m---------------------------------------------------------------------------\u001b[0m",
      "\u001b[1;31mNameError\u001b[0m                                 Traceback (most recent call last)",
      "\u001b[1;32m<ipython-input-93-23e476bb3424>\u001b[0m in \u001b[0;36m<module>\u001b[1;34m\u001b[0m\n\u001b[1;32m----> 1\u001b[1;33m \u001b[0mprint\u001b[0m\u001b[1;33m(\u001b[0m\u001b[0msummarized_sent\u001b[0m\u001b[1;33m(\u001b[0m\u001b[0msample\u001b[0m\u001b[1;33m[\u001b[0m\u001b[1;36m10\u001b[0m\u001b[1;33m]\u001b[0m\u001b[1;33m)\u001b[0m\u001b[1;33m)\u001b[0m\u001b[1;33m\u001b[0m\u001b[1;33m\u001b[0m\u001b[0m\n\u001b[0m\u001b[0;32m      2\u001b[0m \u001b[0mprint\u001b[0m\u001b[1;33m(\u001b[0m\u001b[0msample_cleaned\u001b[0m\u001b[1;33m[\u001b[0m\u001b[1;36m10\u001b[0m\u001b[1;33m]\u001b[0m\u001b[1;33m)\u001b[0m\u001b[1;33m\u001b[0m\u001b[1;33m\u001b[0m\u001b[0m\n",
      "\u001b[1;32m<ipython-input-92-4a62916f34ff>\u001b[0m in \u001b[0;36msummarized_sent\u001b[1;34m(d)\u001b[0m\n\u001b[0;32m      3\u001b[0m     \u001b[0mword_frc\u001b[0m \u001b[1;33m=\u001b[0m \u001b[1;33m{\u001b[0m\u001b[1;33m}\u001b[0m\u001b[1;33m\u001b[0m\u001b[1;33m\u001b[0m\u001b[0m\n\u001b[0;32m      4\u001b[0m     \u001b[1;32mfor\u001b[0m \u001b[0mword\u001b[0m \u001b[1;32min\u001b[0m \u001b[0mdocx\u001b[0m\u001b[1;33m:\u001b[0m\u001b[1;33m\u001b[0m\u001b[1;33m\u001b[0m\u001b[0m\n\u001b[1;32m----> 5\u001b[1;33m         \u001b[1;32mif\u001b[0m \u001b[0mword\u001b[0m\u001b[1;33m.\u001b[0m\u001b[0mtext\u001b[0m \u001b[1;32min\u001b[0m \u001b[0mwords\u001b[0m\u001b[1;33m:\u001b[0m\u001b[1;33m\u001b[0m\u001b[1;33m\u001b[0m\u001b[0m\n\u001b[0m\u001b[0;32m      6\u001b[0m             \u001b[1;32mif\u001b[0m \u001b[0mword\u001b[0m\u001b[1;33m.\u001b[0m\u001b[0mtext\u001b[0m \u001b[1;32mnot\u001b[0m \u001b[1;32min\u001b[0m \u001b[0mstopwords\u001b[0m\u001b[1;33m:\u001b[0m\u001b[1;33m\u001b[0m\u001b[1;33m\u001b[0m\u001b[0m\n\u001b[0;32m      7\u001b[0m                 \u001b[1;32mif\u001b[0m \u001b[0mword\u001b[0m\u001b[1;33m.\u001b[0m\u001b[0mtext\u001b[0m \u001b[1;32mnot\u001b[0m \u001b[1;32min\u001b[0m \u001b[0mword_frc\u001b[0m\u001b[1;33m.\u001b[0m\u001b[0mkeys\u001b[0m\u001b[1;33m(\u001b[0m\u001b[1;33m)\u001b[0m\u001b[1;33m:\u001b[0m\u001b[1;33m\u001b[0m\u001b[1;33m\u001b[0m\u001b[0m\n",
      "\u001b[1;31mNameError\u001b[0m: name 'words' is not defined"
     ]
    }
   ],
   "source": [
    "print(summarized_sent(sample[10]))\n",
    "print(sample_cleaned[10])"
   ]
  },
  {
   "cell_type": "code",
   "execution_count": 171,
   "metadata": {
    "scrolled": true
   },
   "outputs": [
    {
     "name": "stdout",
     "output_type": "stream",
     "text": [
      "data\n",
      "application\n",
      "design\n",
      "stack\n",
      "web\n",
      "stack\n",
      "new\n",
      "stack\n",
      "application\n",
      "stack\n",
      "developer\n",
      "project\n",
      "supply\n"
     ]
    },
    {
     "data": {
      "text/plain": [
       "['skills data mining, data analysis, machine learning, python, r, matlab, sphinx, latex, mathematica,  maple, git, cvs, htcondor. \\uf09f skills used data cleansing and data analysis using python, scala, r and spark. two years of working experience  in data analysis team of ligo scientific collaboration [$3m special breakthrough prize winner of  2016]. \\uf09f implemented data mining and machine learning algorithms to describe and predict user  behavior on various retailer websites. objective data scientist with phd in physics and 1+ industrial experience.',\n",
       " '\\uf0a7 team\\xa0lead\\xa0on\\xa0full\\xa0stack\\xa0javascript\\xa0online\\xa0auto\\xa0insurance\\xa0quote\\xa0application\\xa0with\\xa0 react/redux\\xa0frontend\\xa0and\\xa0express/node\\xa0backend. this\\xa0free\\xa0resume\\xa0template\\xa0is\\xa0the\\xa0copyright\\xa0of\\xa0qwikresume.com.\\xa0usage\\xa0guidelines robert\\xa0smith full\\xa0stack\\xa0developer/web\\xa0programmer phone:\\xa0(0123)\\xad456\\xad789\\xa0|\\xa0email:\\xa0info@qwikresume.com\\xa0|\\xa0website:\\xa0qwikresume.com\\xa0\\xa0  \\uf0a7 worked\\xa0onsite\\xa0at\\xa0pivotal\\xa0labs\\xa0in\\xa0san\\xa0francisco\\xa0with\\xa0a\\xa0team\\xa0of\\xa0pivotal\\xa0employees\\xa0 architecting\\xa0and\\xa0starting\\xa0development\\xa0for\\xa0quoting\\xa0application. \\uf0a7 used\\xa0angular\\xa0js\\xa0as\\xa0framework\\xa0to\\xa0create\\xa0a\\xa0single\\xa0page\\xa0application\\xa0(spa)\\xa0which\\xa0can\\xa0bind\\xa0 data\\xa0to\\xa0specific\\xa0views\\xa0and\\xa0synchronize\\xa0data\\xa0with\\xa0server. \\uf0a7 part\\xa0of\\xa0small\\xa0team\\xa0that\\xa0rewrote\\xa0the\\xa0current\\xa0java\\xa0spring\\xa0customer\\xa0portal\\xa0as\\xa0well\\xa0as\\xa0general\\xa0 feature\\xa0development/maintenance\\xa0of\\xa0the\\xa0application.',\n",
       " 'full\\xa0stack\\xa0developer\\xa0 abc\\xa0corporation\\xa0\\xad\\xa0february\\xa02014\\xa0–\\xa0june\\xa02015 \\xa0 \\uf0a7 responsibilities\\xa0involved\\xa0in\\xa0the\\xa0analysis,\\xa0design,\\xa0and\\xa0development\\xa0and\\xa0testing\\xa0phases\\xa0of\\xa0software\\xa0 development\\xa0life\\xa0cycle\\xa0(sdlc). overall\\xa07\\xa0years\\xa0of\\xa0experience\\xa0in\\xa0front\\xa0end,\\xa0ui,\\xa0object\\xa0oriented\\xa0analysis,\\xa0design,\\xa0development,\\xa0 configuration,\\xa0testing,\\xa0support\\xa0and\\xa0documentation\\xa0in\\xa0 \\uf0a7 responsibilities\\xa0involved\\xa0in\\xa0project\\xa0plan\\xa0meetings\\xa0with\\xa0clients,\\xa0business\\xa0analysts\\xa0and\\xa0team\\xa0members to\\xa0analyze\\xa0business\\xa0requirements\\xa0and\\xa0translated\\xa0business\\xa0requirements\\xa0into\\xa0working\\xa0model\\xa0using\\xa0 agile\\xa0methodology. work\\xa0experience work\\xa0experience javascript\\xa0full\\xa0stack\\xa0developer\\xa0 fidelity\\xa0investments\\xa0\\xad\\xa0june\\xa02015\\xa0–\\xa02019 \\xa0  \\uf0a7 used\\xa0microsoft\\xa0visio\\xa0for\\xa0developing\\xa0use\\xa0case\\xa0diagrams,\\xa0activity\\xa0flow\\xa0diagrams,\\xa0class\\xa0diagrams\\xa0 and\\xa0object\\xa0diagrams\\xa0in\\xa0the\\xa0design\\xa0phase.',\n",
       " 'experience lead full stack developer abc corporation - january 2006 – november 2014 education \\uf0b7 master of public administration - (american public university system -  charles town, wv) full stack developer  abc corporation - 2002 – 2006 \\uf0b7 developed and maintained portals for fortune 300 companys sales   reps. \\uf0b7 responsible for all parts of dev process, including planning, design,  development, testing and maintenance. robert smith lead full stack developer',\n",
       " 'robert\\xa0smith\\xa0 freelance\\xa0full\\xa0stack\\xa0developer personal statement highly motivated it professional, 8 years of experience in development and implementation of customized software and web-based applications  including web.   \\uf0a7 worked on code for internal and external applications developing  server-side code for internal and external web applications. languages english (native) french (professional) spanish (professional) interests climbing snowboarding cooking reading references reference – 1 (company  name) \\uf0a7 utilizing the jquery framework (jquery, jquery ui) building and  maintaining ajax methods building and maintaining web services. work experience freelance full stack developer capital one -   august 2016 – 2019  ',\n",
       " '\\uf0b7 design frontend with in object oriented javascript framework like angular.js,  and node.js extensively used extjs with rich user interface for presentation tier development. | https://qwikresume.com full stack development/ front-end development position emphasizing strong web   march 2014 – august 2015 junior full stack developer - abc corporation \\uf0b7 responsibilities define architecture and present to customer technology  managers. equally strong in the front end web ui, middle- tier and back-end technologies. \\uf0b7 developed very rich user interface with rich faces, ajax4jsf tags and ms excel  for template design.',\n",
       " '\\uf0a7 the\\xa0functionalities\\xa0include\\xa0creating\\xa0a\\xa0new\\xa0auto\\xa0quote,\\xa0binding\\xa0the\\xa0auto\\xa0quote\\xa0to\\xa0 a\\xa0policy,\\xa0generating\\xa0the\\xa0quote\\xa0and\\xa0policy\\xa0pdf\\xa0documents\\xa0using\\xa0jasper\\xa0reports,\\xa0 emailing\\xa0the\\xa0documents\\xa0to\\xa0the\\xa0consumer,\\xa0searching\\xa0for\\xa0an\\xa0existing\\xa0policy\\xa0and\\xa0 existing\\xa0quote,. \\uf0a7 business\\xa0to\\xa0consumer\\xa0used\\xa0by\\xa0the\\xa0normal\\xa0users\\xa0has\\xa0the\\xa0functionality\\xa0limited\\xa0to\\xa0 generate\\xa0a\\xa0new\\xa0auto\\xa0quote\\xa0based\\xa0on\\xa0the\\xa0consumer\\xa0information\\xa0entered. this\\xa0free\\xa0resume\\xa0template\\xa0is\\xa0the\\xa0copyright\\xa0of\\xa0qwikresume.com.\\xa0usage\\xa0guidelines robert\\xa0smith python\\xa0full\\xa0stack\\xa0developer phone:\\xa0 i\\xa0enjoy\\xa0learning\\xa0new\\xa0ways\\xa0to\\xa0solve\\xa0hard\\xa0problems\\xa0by\\xa0utilizing my\\xa0programmer\\xa0toolbox\\xa0and\\xa0adding\\xa0new\\xa0tools\\xa0each\\xa0year. \\uf0a7 commerce\\xa0insurance\\xa0description\\xa0the\\xa0commerce\\xa0group\\xa0organization\\xa0has\\xa0 numerous\\xa0information\\xa0technology\\xa0solutions\\xa0running\\xa0on\\xa0many\\xa0different\\xa0platforms\\xa0 that\\xa0provide\\xa0various\\xa0functions\\xa0to\\xa0an\\xa0insurance\\xa0agent.',\n",
       " 'robert\\xa0smith\\xa0 full\\xa0stack\\xa0developer\\xa0intern personal statement current graduate student. work experience full stack developer intern abc corporation -   october 2014 – july 2016   \\uf0a7 connected stadium a smart stadium solution which provides high- speed wi-fi access and smart services for users in sports stadiums. languages english (native) french (professional) spanish (professional) interests climbing snowboarding cooking reading references reference – 1 (company  name) professional experience of 2 years as a full stack  developer.',\n",
       " 'the user can also assign specific roles for the particular harvest season and view the data  based on the area code of the plant location. \\uf09f used ng-view directive to refresh only certain section of the page and reduce the load on the  web server. \\uf09f implemented single page application (spa) architecture and client side mvc using angularjs  and server side using nodejs. \\uf09f users can access different features like vendor management, user preferences, grower  information and plant locations. \\uf09f responsibilities created single page client side applications using angularjs, typescript,  angular material design and css3.',\n",
       " '\\uf09f evaluated and recommended new web technologies such as architectures, patterns,  languages, and plug-ins based on shipstations short term and long term objectives. this is dummy description data, replace with job description relevant to your current role. va\\xa0\\xad\\xa0august 2016 – 2019  \\uf09f responsibilities develop/program new functionality and features in line with functional  specifications and business requirements. objective expertise in full software development life cycle (sdlc) including software architecture, object  oriented programming, designing & prototyping. work experience full stack developer capital one,',\n",
       " '● role : frontend and backend developer\\xa0   title\\xa0 karmony\\xa0 technology\\xa0 php,mysql,wordpress,woocommerce ,paypal,\\xa0 social media api\\xa0 description\\xa0  date-\\xa0 \\xa0 ● role : wordpress developer\\xa0   title\\xa0 memberslesbrown\\xa0 technology\\xa0 php,mysql,html5,css3,javascript\\xa0 description\\xa0  a highly experienced and\\xa0 creative wordpress developer\\xa0 with seven years experience in a\\xa0 variety of exciting projects. title\\xa0 underwearnation\\xa0 technology\\xa0 php,mysql,wordpress,woocommerce ,paypal,\\xa0 social media api\\xa0 description\\xa0  ●  team size - 4\\xa0 \\xa0 ●  role : wordpress developer\\xa0           .  \\xa0 ',\n",
       " '“explosion welding” at iit tech-fest 2000 `national technical paper competition’ organised  by mechanical engineering students association (mesa) of government college of  engineering, pune.   “artificial intelligence and robotics” at technova 2000, 4th state level paper presentation  contest organised by kenkre society’s textile and engineering institute, ichalkaranji, dist:  kolhapur.   course at indo-german training centre, mumbai, run by indo-german chamber of commerce.   indo-german  training centre,  mumbai 400 020  indo-german training centre,   sports: cricket:  c.k.naidu state level tournament, three district level events.  ',\n",
       " 'is an expert at synchronizing supply with demand and at developing supply  chain strategies that significantly impact on profitability and increase the total value of  a business. \\uf0b7 accurately calculating total supply chain costs in relation to proposed new projects.   duties:   \\uf0b7 planning supply chain schedules in advance in preparation for busy seasonal periods.   \\uf0b7 bringing products via the supply chain to market on time and in the correct quantity.   \\uf0b7 carrying out the initial and also on-going assessment of the supply chain.  ']"
      ]
     },
     "execution_count": 171,
     "metadata": {},
     "output_type": "execute_result"
    }
   ],
   "source": [
    "sample_cleaned = []\n",
    "for i in range(len(sample)):\n",
    "    sample_cleaned.append(summarized_sent(sample[i]))\n",
    "    \n",
    "sample_cleaned"
   ]
  },
  {
   "cell_type": "code",
   "execution_count": 170,
   "metadata": {},
   "outputs": [],
   "source": [
    "from gensim.summarization import summarize\n",
    "words = set(nltk.corpus.words.words())"
   ]
  },
  {
   "cell_type": "code",
   "execution_count": 174,
   "metadata": {},
   "outputs": [
    {
     "name": "stdout",
     "output_type": "stream",
     "text": [
      "skills data mining data analysis machine learning python r matlab sphinx latex mathematica maple git cvs htcondor skills used data cleansing and data analysis using python scala r and spark two years of working experience in data analysis team of ligo scientific collaboration special breakthrough prize winner of implemented data mining and machine learning algorithms to describe and predict user behavior on various retailer websites objective data scientist with phd in physics and industrial experience \n",
      "\n",
      "\n"
     ]
    }
   ],
   "source": [
    "final_cleaned_1 = []\n",
    "final_cleaned_2 = []\n",
    "for d in sample_cleaned: \n",
    "    sent = \" \".join(w for w in nltk.wordpunct_tokenize(d) if w.lower() in words or w.isalpha())\n",
    "    final_cleaned_1.append(sent)\n",
    "    \n",
    "for d in sample:\n",
    "    s= summarize(d, word_count=200)\n",
    "    sent = \" \".join(w for w in nltk.wordpunct_tokenize(s) if w.lower() in words or w.isalpha())\n",
    "    final_cleaned_2.append(sent)\n",
    "    \n",
    "print(final_cleaned_1[0], '\\n\\n')"
   ]
  },
  {
   "cell_type": "code",
   "execution_count": 169,
   "metadata": {},
   "outputs": [
    {
     "name": "stdout",
     "output_type": "stream",
     "text": [
      "['skills data mining data analysis machine learning python r matlab sphinx latex mathematica maple git cvs htcondor skills used data cleansing and data analysis using python scala r and spark two years of working experience in data analysis team of ligo scientific collaboration special breakthrough prize winner of implemented data mining and machine learning algorithms to describe and predict user behavior on various retailer websites objective data scientist with phd in physics and industrial experience', 'team lead on full stack javascript online auto insurance quote application with frontend and backend this free resume template is the copyright of usage guidelines robert smith full stack programmer phone email info website worked onsite at pivotal labs in san francisco with a team of pivotal employees architecting and starting development for quoting application used angular js as framework to create a single page application spa which can bind data to specific views and synchronize data with server part of small team that rewrote the current java spring customer portal as well as general feature of the application', 'full stack developer abc corporation february june responsibilities involved in the analysis design and development and testing phases of software development life cycle sdlc overall years of experience in front end ui object oriented analysis design development configuration testing support and documentation in responsibilities involved in project plan meetings with clients business analysts and team members to analyze business requirements and translated business requirements into working model using agile methodology work experience work experience javascript full stack developer fidelity investments june used microsoft visio for developing use case diagrams activity flow diagrams class diagrams and object diagrams in the design phase', 'experience lead full stack developer abc corporation january november education master of public administration american public university system charles town wv full stack developer abc corporation developed and maintained portals for fortune companys sales responsible for all parts of dev process including planning design development testing and maintenance robert smith lead full stack developer', 'robert smith freelance full stack developer personal statement highly motivated it professional years of experience in development and implementation of customized software and applications including web worked on code for internal and external applications developing code for internal and external web applications languages english native french professional spanish professional interests climbing snowboarding cooking reading references reference company name utilizing the jquery framework jquery jquery ui building and maintaining ajax methods building and maintaining web services work experience freelance full stack developer capital one august', 'design frontend with in object oriented javascript framework like and extensively used extjs with rich user interface for presentation tier development https full stack development position emphasizing strong web march august junior full stack developer abc corporation responsibilities define architecture and present to customer technology managers equally strong in the front end web ui tier and technologies developed very rich user interface with rich faces tags and ms excel for template design', 'the functionalities include creating a new auto quote binding the auto quote to a policy generating the quote and policy pdf documents using jasper reports emailing the documents to the consumer searching for an existing policy and existing quote business to consumer used by the normal users has the functionality limited to generate a new auto quote based on the consumer information entered this free resume template is the copyright of usage guidelines robert smith python full stack developer phone i enjoy learning new ways to solve hard problems by utilizing my programmer toolbox and adding new tools each year commerce insurance description the commerce group organization has numerous information technology solutions running on many different platforms that provide various functions to an insurance agent', 'robert smith full stack developer intern personal statement current graduate student work experience full stack developer intern abc corporation october july connected stadium a smart stadium solution which provides speed access and smart services for users in sports stadiums languages english native french professional spanish professional interests climbing snowboarding cooking reading references reference company name professional experience of years as a full stack developer', 'the user can also assign specific roles for the particular harvest season and view the data based on the area code of the plant location used directive to refresh only certain section of the page and reduce the load on the web server implemented single page application spa architecture and client side mvc using angularjs and server side using nodejs users can access different features like vendor management user preferences grower information and plant locations responsibilities created single page client side applications using angularjs typescript angular material design and', 'evaluated and recommended new web technologies such as architectures patterns languages and based on shipstations short term and long term objectives this is dummy description data replace with job description relevant to your current role va august responsibilities new functionality and features in line with functional specifications and business requirements objective expertise in full software development life cycle sdlc including software architecture object oriented programming designing prototyping work experience full stack developer capital one', 'role frontend and backend developer title karmony technology php mysql wordpress woocommerce paypal social media api description role wordpress developer title memberslesbrown technology php mysql javascript description a highly experienced and creative wordpress developer with seven years experience in a variety of exciting projects title underwearnation technology php mysql wordpress woocommerce paypal social media api description team size role wordpress developer', 'explosion welding at iit national technical paper competition organised by mechanical engineering students association mesa of government college of engineering pune artificial intelligence and robotics at technova state level paper presentation contest organised by kenkre society s textile and engineering institute ichalkaranji dist kolhapur course at training centre mumbai run by chamber of commerce training centre mumbai training centre sports cricket state level tournament three district level events', 'is an expert at synchronizing supply with demand and at developing supply chain strategies that significantly impact on profitability and increase the total value of a business accurately calculating total supply chain costs in relation to proposed new projects duties planning supply chain schedules in advance in preparation for busy seasonal periods bringing products via the supply chain to market on time and in the correct quantity carrying out the initial and also assessment of the supply chain'] \n",
      "\n",
      "\n"
     ]
    }
   ],
   "source": [
    "final_cleaned_1 = []\n",
    "final_cleaned_2 = []\n",
    "for d in sample_cleaned: \n",
    "    sent = \" \".join(w for w in nltk.word_tokenize(d) if w.lower() in words or w.isalpha())\n",
    "    final_cleaned_1.append(sent)\n",
    "    \n",
    "for d in sample:\n",
    "    s= summarize(d, word_count=200)\n",
    "    sent = \" \".join(w for w in nltk.word_tokenize(s) if w.lower() in words or w.isalpha())\n",
    "    final_cleaned_2.append(sent)\n",
    "    \n",
    "print(final_cleaned_1, '\\n\\n')"
   ]
  },
  {
   "cell_type": "code",
   "execution_count": 27,
   "metadata": {},
   "outputs": [
    {
     "data": {
      "text/plain": [
       "'data mining data analysis machine learning python r sphinx latex maple git used data cleansing and data analysis python scala r and spark two of working experience in data analysis team of scientific collaboration special breakthrough prize winner of data mining and machine learning to describe and predict user behavior on various retailer objective data scientist with in physics and industrial experience certified in data analysis and machine learning work experience data scientist corporation data scientist corporation for data scientist smith phone i their quot predictive marketing quot process to be more data driven and profitable designed and applied statistical and mathematical for corporate analytics that were into the new process was able to hone in on more useful user that had a significant increase in conversion over ten of successful research experience in both theoretical and computational physics responsible for in the appropriate media and creation of supporting documentation for the client from statistical for accuracy consistency and statistical validity'"
      ]
     },
     "execution_count": 27,
     "metadata": {},
     "output_type": "execute_result"
    }
   ],
   "source": [
    "words = set(nltk.corpus.words.words())\n",
    "result = \" \".join(w for w in nltk.wordpunct_tokenize(final_cleaned_1[0]) if w.lower() in words or not w.isalpha())\n",
    "result"
   ]
  },
  {
   "cell_type": "code",
   "execution_count": 24,
   "metadata": {},
   "outputs": [],
   "source": [
    "# import nltk \n",
    "# nltk.download('wordnet') \n",
    "# from nltk.stem import WordNetLemmatizer \n",
    "  \n",
    "# # Create WordNetLemmatizer object \n",
    "# wnl = WordNetLemmatizer() \n",
    "# dok= []\n",
    "# for words in final_cleaned_1[-2]:\n",
    "#     dok.append(wnl(words))\n",
    "# print('\\n\\n', dok)"
   ]
  },
  {
   "cell_type": "code",
   "execution_count": 28,
   "metadata": {},
   "outputs": [
    {
     "data": {
      "text/plain": [
       "'we seek a talented entry level front end web developer the selected candidate will be required to update and maintain a number of wordpress site plugins and core files as well as backup and test changes additionally they will be tasked with creating base templates for new or existing sites from a design other tasks to include maintenance and edits to existing sites as needed are preferred for this positioneducation bachelor s degree or in progress or years equivalent pages from a designunderstanding of responsive layoutsfamiliarity with wordpressappreciation for design aestheticsability to use javascript for interactive page elements jquery or other frameworks php skills a plus'"
      ]
     },
     "execution_count": 28,
     "metadata": {},
     "output_type": "execute_result"
    }
   ],
   "source": [
    "from string import punctuation\n",
    "job_1 = \"We seek a talented Entry Level Front End Web Developer. The selected candidate will be required to update and maintain a number of WordPress site plugins and core files as well as backup and test changes. Additionally, they will be tasked with creating html/css base templates for new or existing sites from a design. Other tasks to include maintenance and edits to existing sites as needed. Self-motivated, self-starters are preferred for this positionEducation: Bachelor’s degree or in progress, or 1-3 years equivalent experience.QualificationsCreate HTML/CSS pages from a designUnderstanding of responsive layoutsFamiliarity with WordPressAppreciation for design aestheticsAbility to use Javascript for interactive page elements (JQuery or other frameworks)PHP skills a plus\"\n",
    "job_1 = \" \".join(w.lower() for w in nltk.word_tokenize(job_1) if w.lower() in words or w.isalpha())\n",
    "job_1"
   ]
  },
  {
   "cell_type": "code",
   "execution_count": 29,
   "metadata": {},
   "outputs": [],
   "source": [
    "from sklearn.feature_extraction.text import TfidfVectorizer\n",
    "from sklearn.metrics.pairwise import linear_kernel"
   ]
  },
  {
   "cell_type": "code",
   "execution_count": 30,
   "metadata": {},
   "outputs": [
    {
     "data": {
      "text/plain": [
       "[['skills data mining data analysis machine learning python r matlab sphinx latex mathematica maple git cvs htcondor skills used data cleansing and data analysis using python scala r and spark two years of working experience in data analysis team of ligo scientific collaboration special breakthrough prize winner of implemented data mining and machine learning algorithms to describe and predict user behavior on various retailer websites objective data scientist with phd in physics and industrial experience certified in data analysis and machine learning work experience data scientist abc corporation data scientist abc corporation maintained automated etl for reporting data scientist robert smith phone i revamped their quot predictive marketing quot process to be more data driven and profitable designed and applied statistical and mathematical methods for corporate analytics that were implemented into products the new process was able to hone in on more useful user segments that had a significant increase in conversion over ten years of successful research experience in both theoretical and computational physics responsible for results reporting in the appropriate media and creation of supporting documentation for the client monitored products from statistical programs for accuracy consistency and statistical validity',\n",
       "  'we seek a talented entry level front end web developer the selected candidate will be required to update and maintain a number of wordpress site plugins and core files as well as backup and test changes additionally they will be tasked with creating base templates for new or existing sites from a design other tasks to include maintenance and edits to existing sites as needed are preferred for this positioneducation bachelor s degree or in progress or years equivalent pages from a designunderstanding of responsive layoutsfamiliarity with wordpressappreciation for design aestheticsability to use javascript for interactive page elements jquery or other frameworks php skills a plus'],\n",
       " ['team lead on full stack javascript online auto insurance quote application with frontend and backend this free resume template is the copyright of usage guidelines robert smith full stack programmer phone email info website worked onsite at pivotal labs in san francisco with a team of pivotal employees architecting and starting development for quoting application used angular js as framework to create a single page application spa which can bind data to specific views and synchronize data with server part of small team that rewrote the current java spring customer portal as well as general feature of the application worked on adding new rest endpoints to separate spring web service that acted as an interface to legacy soap services for customer portal to utilize as its primary api developed the application using javascript jquery jsp node js angularjs used angular js to develop a standalone test application in scope of worked on creating a standalone login node application with front end professional experience full stack programmer abc corporation robert smith full stack programmer phone website summary around seven years of experience in java java script ui technologies have been working on analyzing requirements design development and implementation of the projects experience with core javase including collections api threads generics and jdbc worked on rest webservices as well as node rest framework for backend services used mongo db for database services part of the team for the application development full stack developer csaa insurance pivotal labs jawaharlal nehru university oak street old forge new york',\n",
       "  'we seek a talented entry level front end web developer the selected candidate will be required to update and maintain a number of wordpress site plugins and core files as well as backup and test changes additionally they will be tasked with creating base templates for new or existing sites from a design other tasks to include maintenance and edits to existing sites as needed are preferred for this positioneducation bachelor s degree or in progress or years equivalent pages from a designunderstanding of responsive layoutsfamiliarity with wordpressappreciation for design aestheticsability to use javascript for interactive page elements jquery or other frameworks php skills a plus'],\n",
       " ['full stack developer abc corporation february june responsibilities involved in the analysis design and development and testing phases of software development life cycle sdlc overall years of experience in front end ui object oriented analysis design development configuration testing support and documentation in responsibilities involved in project plan meetings with clients business analysts and team members to analyze business requirements and translated business requirements into working model using agile methodology work experience work experience javascript full stack developer fidelity investments june used microsoft visio for developing use case diagrams activity flow diagrams class diagrams and object diagrams in the design phase the entire stage of software development life cycle and system architecture using technologies implemented the application using jakarta struts framework which is based on model view controller design pattern used the responsive utilities of the bootstrap frameworks to facilitate the design displaying properly on different devices use agile scrum methodologies for software development this free resume template is the copyright of usage guidelines scholastics scholastics this free resume template is the copyright of usage guidelines developed interface to seamlessly combine the new module with existing login system by using angularjs used wsdl soap cxf technologies to create web services generate stubs and consuming robert smith javascript full stack developer developed action classes and action forms to collect input',\n",
       "  'we seek a talented entry level front end web developer the selected candidate will be required to update and maintain a number of wordpress site plugins and core files as well as backup and test changes additionally they will be tasked with creating base templates for new or existing sites from a design other tasks to include maintenance and edits to existing sites as needed are preferred for this positioneducation bachelor s degree or in progress or years equivalent pages from a designunderstanding of responsive layoutsfamiliarity with wordpressappreciation for design aestheticsability to use javascript for interactive page elements jquery or other frameworks php skills a plus'],\n",
       " ['experience lead full stack developer abc corporation january november education master of public administration american public university system charles town wv full stack developer abc corporation developed and maintained portals for fortune companys sales responsible for all parts of dev process including planning design development testing and maintenance robert smith lead full stack developer created doctor finder for a products website linkedin profile over years of progressive it experience and a track record of superior results developed and managed another products website developed and maintained website skills used mongodb express javascript bootstrap jquery aws heroku stripe google maps api google charts api nodemailer responsive design phantomjs nightmarejs managed and patch management for servers monitored website analytics and server logs to block unauthorized data scrapers and spiders wrote and reviewed code that interacts with sql and third party apis this free resume template is the copyright of sanitized and imported third party datasets into sql databases for website integration',\n",
       "  'we seek a talented entry level front end web developer the selected candidate will be required to update and maintain a number of wordpress site plugins and core files as well as backup and test changes additionally they will be tasked with creating base templates for new or existing sites from a design other tasks to include maintenance and edits to existing sites as needed are preferred for this positioneducation bachelor s degree or in progress or years equivalent pages from a designunderstanding of responsive layoutsfamiliarity with wordpressappreciation for design aestheticsability to use javascript for interactive page elements jquery or other frameworks php skills a plus'],\n",
       " ['robert smith freelance full stack developer personal statement highly motivated it professional years of experience in development and implementation of customized software and applications including web worked on code for internal and external applications developing code for internal and external web applications languages english native french professional spanish professional interests climbing snowboarding cooking reading references reference company name utilizing the jquery framework jquery jquery ui building and maintaining ajax methods building and maintaining web services work experience freelance full stack developer capital one august applied scripts for basic animation and end user screen customization purposes responsibilities new functionality and features in line with functional specifications and business requirements used ajax and json to make asynchronous calls to the project server to fetch data on the fly building and improving c components including pocos which represent data and operations involved with bug fixing on functionality performance and designing issues with javascript jquery and angularjs full stack developer abc corporation as a consultant i worked across a wide variety of systems applications and projects within the hosted solutions division maintaining a high level of security and code reusability used npm node package manager for development designed and implemented the user interface using javascript and angularjs',\n",
       "  'we seek a talented entry level front end web developer the selected candidate will be required to update and maintain a number of wordpress site plugins and core files as well as backup and test changes additionally they will be tasked with creating base templates for new or existing sites from a design other tasks to include maintenance and edits to existing sites as needed are preferred for this positioneducation bachelor s degree or in progress or years equivalent pages from a designunderstanding of responsive layoutsfamiliarity with wordpressappreciation for design aestheticsability to use javascript for interactive page elements jquery or other frameworks php skills a plus'],\n",
       " ['design frontend with in object oriented javascript framework like and extensively used extjs with rich user interface for presentation tier development https full stack development position emphasizing strong web march august junior full stack developer abc corporation responsibilities define architecture and present to customer technology managers equally strong in the front end web ui tier and technologies developed very rich user interface with rich faces tags and ms excel for template design responsible for the implementation of web design based on xhtml bootstrap developed new and improved upon existing php web applications for data presentation and input bring to the team a solid track record of success in the delivery of software applications experience and diverse industry background this is dummy description data replace with job description relevant to your current role robert smith junior full stack developer and general development skills including and databases participate with functional requirement team to understand requirement designed and developed companys new employee system developed token based authentication system using spring security new features in php and',\n",
       "  'we seek a talented entry level front end web developer the selected candidate will be required to update and maintain a number of wordpress site plugins and core files as well as backup and test changes additionally they will be tasked with creating base templates for new or existing sites from a design other tasks to include maintenance and edits to existing sites as needed are preferred for this positioneducation bachelor s degree or in progress or years equivalent pages from a designunderstanding of responsive layoutsfamiliarity with wordpressappreciation for design aestheticsability to use javascript for interactive page elements jquery or other frameworks php skills a plus'],\n",
       " ['the functionalities include creating a new auto quote binding the auto quote to a policy generating the quote and policy pdf documents using jasper reports emailing the documents to the consumer searching for an existing policy and existing quote business to consumer used by the normal users has the functionality limited to generate a new auto quote based on the consumer information entered this free resume template is the copyright of usage guidelines robert smith python full stack developer phone i enjoy learning new ways to solve hard problems by utilizing my programmer toolbox and adding new tools each year commerce insurance description the commerce group organization has numerous information technology solutions running on many different platforms that provide various functions to an insurance agent i have application architecture design development and testing experience oak street old forge new york implemented rest web services using jersey framework involved in creating various data access objects for addition modification and deletion of records using various specification files created tables triggers stored procedures sql queries joins oak street old forge new york professional experience python full stack developer verisk analytics worked on new product launches along with enhancements websites web applications and infrastructure sdlc including requirements gathering designing the application implementing the design testing and maintenance support developed user interface using jsp that would not have the business processes implemented business processes such as user authentication implemented the application using the concrete principles laid down by robert smith python full stack developer phone scope implement test and deploy new features and versions of core applications databases and utilities',\n",
       "  'we seek a talented entry level front end web developer the selected candidate will be required to update and maintain a number of wordpress site plugins and core files as well as backup and test changes additionally they will be tasked with creating base templates for new or existing sites from a design other tasks to include maintenance and edits to existing sites as needed are preferred for this positioneducation bachelor s degree or in progress or years equivalent pages from a designunderstanding of responsive layoutsfamiliarity with wordpressappreciation for design aestheticsability to use javascript for interactive page elements jquery or other frameworks php skills a plus'],\n",
       " ['robert smith full stack developer intern personal statement current graduate student work experience full stack developer intern abc corporation october july connected stadium a smart stadium solution which provides speed access and smart services for users in sports stadiums languages english native french professional spanish professional interests climbing snowboarding cooking reading references reference company name professional experience of years as a full stack developer constructed a responsive web application utilizing bootstrap javascript jquery angularjs c sql and in computer engineering syracuse university college of engineering computer science syracuse ny full stack developer abc corporation part of database design team and developed restful web services using and jersey configured redis cluster in the project lab as well as on aws according to the project requirements worked with a team of developers to create a website for a startup fundraising company developed web services using java hibernate and spring for mysql and redis this is dummy description data replace with job description this free resume template is the copyright of this free resume template is the copyright of',\n",
       "  'we seek a talented entry level front end web developer the selected candidate will be required to update and maintain a number of wordpress site plugins and core files as well as backup and test changes additionally they will be tasked with creating base templates for new or existing sites from a design other tasks to include maintenance and edits to existing sites as needed are preferred for this positioneducation bachelor s degree or in progress or years equivalent pages from a designunderstanding of responsive layoutsfamiliarity with wordpressappreciation for design aestheticsability to use javascript for interactive page elements jquery or other frameworks php skills a plus'],\n",
       " ['the user can also assign specific roles for the particular harvest season and view the data based on the area code of the plant location used directive to refresh only certain section of the page and reduce the load on the web server implemented single page application spa architecture and client side mvc using angularjs and server side using nodejs users can access different features like vendor management user preferences grower information and plant locations responsibilities created single page client side applications using angularjs typescript angular material design and this is dummy description data replace with job description relevant to your current role implemented responsive design for different size of devices by using bootstrap grid system address marshville road alabama summary having years of experience in developing deploying and maintaining application using java and technologies robert smith full stack developer ii phone usage guidelines education bachelor of engineering in engineering osmania university hyderabad andhra pradesh experience in development of software applications using java jdbc servlets jsp jstl struts hibernate and spring javascript css xml and xsltand ajax used angular ui grid directives such as filters rootscope childscope modal and template etc implemented components and using compatible css javascript jquery and ajax angular js allows the users to track the fields associated to a particular crop for the harvest season this free resume template is the copyright of',\n",
       "  'we seek a talented entry level front end web developer the selected candidate will be required to update and maintain a number of wordpress site plugins and core files as well as backup and test changes additionally they will be tasked with creating base templates for new or existing sites from a design other tasks to include maintenance and edits to existing sites as needed are preferred for this positioneducation bachelor s degree or in progress or years equivalent pages from a designunderstanding of responsive layoutsfamiliarity with wordpressappreciation for design aestheticsability to use javascript for interactive page elements jquery or other frameworks php skills a plus'],\n",
       " ['evaluated and recommended new web technologies such as architectures patterns languages and based on shipstations short term and long term objectives this is dummy description data replace with job description relevant to your current role va august responsibilities new functionality and features in line with functional specifications and business requirements objective expertise in full software development life cycle sdlc including software architecture object oriented programming designing prototyping work experience full stack developer capital one applied scripts for basic animation and end user screen customization purposes developed an internal application that tracked the life of an order through a windows service and mongodb involved with bug fixing on functionality performance and designing issues with javascript jquery and angularjs full stack developer robert smith phone used ajax and json to make asynchronous calls to the project server to fetch data on the fly improved sql server performance with stored procedure refactors and new constraints and indexes full stack developer abc corporation used npm node package manager for development actively participated in release planning sprint planning and estimation sessions created custom plugins templates and functions for angularjs application',\n",
       "  'we seek a talented entry level front end web developer the selected candidate will be required to update and maintain a number of wordpress site plugins and core files as well as backup and test changes additionally they will be tasked with creating base templates for new or existing sites from a design other tasks to include maintenance and edits to existing sites as needed are preferred for this positioneducation bachelor s degree or in progress or years equivalent pages from a designunderstanding of responsive layoutsfamiliarity with wordpressappreciation for design aestheticsability to use javascript for interactive page elements jquery or other frameworks php skills a plus'],\n",
       " ['role frontend and backend developer title karmony technology php mysql wordpress woocommerce paypal social media api description role wordpress developer title memberslesbrown technology php mysql javascript description a highly experienced and creative wordpress developer with seven years experience in a variety of exciting projects title underwearnation technology php mysql wordpress woocommerce paypal social media api description team size role wordpress developer i worked on membership features shop schedule plugin and integrated social media api made itineraries that are customized to fit their guest s interests the same being reflected in the travel style based custom needs based i am working as a developer and having extensive experience with wordpress theme plugins and widgets this website provide a broader variety of needs than rather than specializing in one style of training coaches shop schedule title journeymexico technology php wordpress mysql javascript api description integrated woocommerce plugin social media api contact form team size copyright a level head and rational approach to problem solving combined with a passion for innovative and fresh ideas has led to a portfolio of impressive website solutions experience based tour trip planning and offering that they make it helps people find the style that works for them and offers coaches versed in a variety of fitness methodologies',\n",
       "  'we seek a talented entry level front end web developer the selected candidate will be required to update and maintain a number of wordpress site plugins and core files as well as backup and test changes additionally they will be tasked with creating base templates for new or existing sites from a design other tasks to include maintenance and edits to existing sites as needed are preferred for this positioneducation bachelor s degree or in progress or years equivalent pages from a designunderstanding of responsive layoutsfamiliarity with wordpressappreciation for design aestheticsability to use javascript for interactive page elements jquery or other frameworks php skills a plus'],\n",
       " ['explosion welding at iit national technical paper competition organised by mechanical engineering students association mesa of government college of engineering pune artificial intelligence and robotics at technova state level paper presentation contest organised by kenkre society s textile and engineering institute ichalkaranji dist kolhapur course at training centre mumbai run by chamber of commerce training centre mumbai training centre sports cricket state level tournament three district level events the project involves study and technical comparison of gki s mega pump with equivalent models of five of its nearest competitors social activities raised funds for disabled and handicapped under rotract club donated blood at blood donation camp organised by rotract club the project involves identifying key skills of gki and finding the core skill leading to competitive advantage gki pumps a german multinational making pumps and valves has sponsored me for diploma in business administration equivalent to mba b state level singing competition it is a course based on the german dual system the project identifies the redundant activities and suggests their elimination thereby reducing the cost as well as time project in design of bend testing machine for metallic wires raised funds for indian army under the banner of omega group association indian languages known english hindi marathi and german level',\n",
       "  'we seek a talented entry level front end web developer the selected candidate will be required to update and maintain a number of wordpress site plugins and core files as well as backup and test changes additionally they will be tasked with creating base templates for new or existing sites from a design other tasks to include maintenance and edits to existing sites as needed are preferred for this positioneducation bachelor s degree or in progress or years equivalent pages from a designunderstanding of responsive layoutsfamiliarity with wordpressappreciation for design aestheticsability to use javascript for interactive page elements jquery or other frameworks php skills a plus'],\n",
       " ['is an expert at synchronizing supply with demand and at developing supply chain strategies that significantly impact on profitability and increase the total value of a business accurately calculating total supply chain costs in relation to proposed new projects duties planning supply chain schedules in advance in preparation for busy seasonal periods bringing products via the supply chain to market on time and in the correct quantity carrying out the initial and also assessment of the supply chain involved in the hiring training supervising and mentoring of supply chain staff managing diverse teams of professionals in a supply chain environment her key skills include improving supplier programs establishing robust processes statistical forecasting and strategic supplier management this template is the copyright of dayjob job seekers may download and use this particular example for their personal use to help them write their own one familiar with the principles of transportation supply chains and procurement taking steps to ensure the personal safety and safe working environment of staff right now she is currently looking for a suitable role with a company that wants to hire the and most experienced people making sure that all supplier information and records are up to date a levels maths a english b technology b science c references available on request checking that a supplier has valid insurance certificates bank details certificates',\n",
       "  'we seek a talented entry level front end web developer the selected candidate will be required to update and maintain a number of wordpress site plugins and core files as well as backup and test changes additionally they will be tasked with creating base templates for new or existing sites from a design other tasks to include maintenance and edits to existing sites as needed are preferred for this positioneducation bachelor s degree or in progress or years equivalent pages from a designunderstanding of responsive layoutsfamiliarity with wordpressappreciation for design aestheticsability to use javascript for interactive page elements jquery or other frameworks php skills a plus']]"
      ]
     },
     "execution_count": 30,
     "metadata": {},
     "output_type": "execute_result"
    }
   ],
   "source": [
    "txt = []\n",
    "for i in range(len(sample)):\n",
    "    text = [final_cleaned_1[i], job_1]\n",
    "    txt.append(text) \n",
    "txt"
   ]
  },
  {
   "cell_type": "code",
   "execution_count": 31,
   "metadata": {},
   "outputs": [
    {
     "data": {
      "text/plain": [
       "[array([[1.        , 0.10051102],\n",
       "        [0.10051102, 1.        ]]),\n",
       " array([[1.        , 0.12110656],\n",
       "        [0.12110656, 1.        ]]),\n",
       " array([[1.        , 0.10947168],\n",
       "        [0.10947168, 1.        ]]),\n",
       " array([[1.        , 0.10364988],\n",
       "        [0.10364988, 1.        ]]),\n",
       " array([[1.        , 0.12970014],\n",
       "        [0.12970014, 1.        ]]),\n",
       " array([[1.        , 0.13503916],\n",
       "        [0.13503916, 1.        ]]),\n",
       " array([[1.        , 0.10359449],\n",
       "        [0.10359449, 1.        ]]),\n",
       " array([[1.        , 0.10087612],\n",
       "        [0.10087612, 1.        ]]),\n",
       " array([[1.        , 0.11701344],\n",
       "        [0.11701344, 1.        ]]),\n",
       " array([[1.        , 0.12143643],\n",
       "        [0.12143643, 1.        ]]),\n",
       " array([[1.        , 0.09670106],\n",
       "        [0.09670106, 1.        ]]),\n",
       " array([[1.        , 0.10132375],\n",
       "        [0.10132375, 1.        ]]),\n",
       " array([[1.        , 0.10806888],\n",
       "        [0.10806888, 1.        ]])]"
      ]
     },
     "execution_count": 31,
     "metadata": {},
     "output_type": "execute_result"
    }
   ],
   "source": [
    "tfid_inst_1 = TfidfVectorizer(analyzer='word', ngram_range=(1, 3), min_df=0)\n",
    "score = []\n",
    "for i in range(len(sample)):\n",
    "    tfid_matrix_1 = tfid_inst_1.fit_transform(txt[i])\n",
    "\n",
    "    cosine_similarity = linear_kernel(tfid_matrix_1)\n",
    "\n",
    "    score.append(cosine_similarity)\n",
    "score"
   ]
  },
  {
   "cell_type": "code",
   "execution_count": 36,
   "metadata": {},
   "outputs": [
    {
     "data": {
      "text/plain": [
       "'\\xa0 \\xa0 \\xa0 \\xa0 \\xa0 +91 120 4288752\\xa0 \\xa0 sales@ongraph.com\\xa0 www.ongraph.com\\xa0 \\xa0 about me\\xa0 \\xa0 a highly experienced and\\xa0 creative wordpress developer\\xa0 with seven years experience in a\\xa0 variety of exciting projects. a\\xa0 level head and rational\\xa0 approach to problem solving\\xa0 combined with a passion for\\xa0 innovative and fresh ideas has led\\xa0 to a portfolio of impressive\\xa0 website solutions.\\xa0  strong communicator with the\\xa0 ability to convey ideas clearly\\xa0 with an emphasis on client\\xa0 satisfaction.\\xa0 \\xa0         technical skills\\xa0 \\xa0 wordpress\\xa0 \\xa0 \\xa0 \\xa0 \\xa0 \\xa0 php\\xa0 \\xa0 \\xa0 \\xa0 \\xa0 \\xa0 mysql\\xa0 \\xa0 \\xa0 \\xa0 \\xa0 \\xa0 html5\\xa0 \\xa0 \\xa0 \\xa0 \\xa0 \\xa0 css\\xa0 \\xa0 \\xa0 \\xa0 \\xa0 \\xa0 \\xa0 \\xa0 personal skills\\xa0 \\xa0 communication\\xa0 \\xa0 \\xa0 \\xa0 \\xa0 \\xa0 organization\\xa0 \\xa0 \\xa0 \\xa0 \\xa0 \\xa0 team player\\xa0 \\xa0 \\xa0 \\xa0 \\xa0 \\xa0 creativity\\xa0 \\xa0 \\xa0 \\xa0 \\xa0 \\xa0 \\xa0 \\xa0 sr.wordpress developer\\xa0 \\xa0 experience\\xa0 \\xa0 \\xa0 wordpress developer                               \\u200b(2011 – present)\\xa0 i am working as a \\u200bwordpress developer and  having extensive\\xa0 experience with wordpress theme , plugins and widgets. well versed in\\xa0 installing and configuring wordpress multisite\\u200b. delivers well-made projects\\xa0 on time.\\xa0 education\\xa0 \\xa0 master of computer application            \\u200b(2008 – 2011)\\xa0 \\xa0 project experience\\xa0   title\\xa0 underwearnation\\xa0 technology\\xa0 php,mysql,wordpress,woocommerce ,paypal,\\xa0 social media api\\xa0 description\\xa0 ● this website is one of its kind in the\\xa0 category that it serves. it collates premium\\xa0 underwear brand under one platform,\\xa0 providing super under interface and tools\\xa0 with purchasing integrated into the\\xa0 application.also it has a integrated\\xa0 recurring payment module in place\\xa0 allowing hassle free upgrades for\\xa0 members each month.\\xa0 responsibility\\xa0 ● i have created website from scratch like-\\xa0 mock up creation, html , html to\\xa0 wordpress integration.\\xa0 \\xa0 ● integrated woocommerce plugin , social\\xa0 media api, contact form 7.\\xa0 \\xa0 ● integrated paypal and shipping plugin.\\xa0 \\xa0 ● team size - 2\\xa0 \\xa0 ● role : wordpress developer\\xa0 \\xa0 \\xa0 social\\xa0 \\xa0 \\xa0 \\xa0 \\xa0 \\xa0 \\xa0 \\xa0 \\xa0 \\xa0 \\xa0 \\xa0 \\xa0 \\xa0 domain experience\\xa0 \\xa0 construction\\xa0 \\xa0 \\xa0 \\xa0 \\xa0 \\xa0 travel & tourism\\xa0 \\xa0 \\xa0 \\xa0 \\xa0 \\xa0 health&fitness\\xa0 \\xa0 \\xa0 \\xa0 \\xa0 \\xa0 social\\xa0 \\xa0 \\xa0 \\xa0 \\xa0 \\xa0 educational\\xa0 \\xa0 \\xa0 \\xa0 \\xa0 \\xa0 \\xa0 \\xa0 \\xa0             plugin\\xa0 \\xa0 woocommerc\\xa0 \\xa0 \\xa0 \\xa0 \\xa0 \\xa0 idx/mls\\xa0 \\xa0 \\xa0 \\xa0 \\xa0 \\xa0 buddypress\\xa0 \\xa0 \\xa0 \\xa0 \\xa0 \\xa0 wpforms\\xa0 \\xa0 \\xa0 \\xa0 \\xa0 \\xa0 co schedule\\xa0 \\xa0 \\xa0 \\xa0 \\xa0 \\xa0 \\xa0 \\xa0 \\xa0 \\xa0 \\xa0 \\xa0 \\xa0 \\xa0   title\\xa0 journeymexico\\xa0 technology\\xa0 php,wordpress,mysql,html5,css3,javascript,api\\xa0 description\\xa0 ● journey mexico is specialize in tailor made\\xa0 itineraries that are customized to fit their\\xa0 guest’s interests, the same being reflected\\xa0 in the travel style based, custom needs\\xa0 based, experience based tour trip\\xa0 planning and offering that they make.\\xa0 responsibility\\xa0 ● i have developed this website from\\xa0 scratch to end ie. designing as well as\\xa0 development.have worked on blog\\xa0 feature as well.\\xa0 \\xa0 ● created booking plugin,payment feature\\xa0 integrated ,newsletter subscription.\\xa0 integrated google map api, google\\xa0 analytics\\xa0 \\xa0 ● team size - 4\\xa0 \\xa0 ● role : frontend and backend developer\\xa0   title\\xa0 karmony\\xa0 technology\\xa0 php,mysql,wordpress,woocommerce ,paypal,\\xa0 social media api\\xa0 description\\xa0 ● this website  provide a broader variety of\\xa0 needs than most- rather than specializing\\xa0 in one style of training, coaches, shop, it\\xa0 helps people find the style that works for\\xa0 them, and offers coaches versed in a\\xa0 variety of fitness methodologies. it\\xa0 provide different membership features\\xa0 with different features.\\xa0 responsibility\\xa0 ● created the website from client idea only\\xa0 and we built the website with wireframe,\\xa0 mockup, psd, html, wordpress and\\xa0 integrated with shop via woocommerce.\\xa0 \\xa0 ● created custom form with personal\\xa0 details of users.\\xa0 \\xa0 ● i worked on membership features, shop,\\xa0 schedule plugin and integrated social\\xa0 media api\\xa0 \\xa0 ● team size - 4\\xa0 copyright © 2008-2018. ongraph technologies pvt. ltd.                                                                                                     sales@ongraph.com\\xa0 \\xa0 \\xa0 \\xa0 \\xa0 \\xa0 \\xa0 \\xa0 \\xa0 \\xa0 \\xa0 \\xa0 \\xa0 \\xa0 \\xa0 \\xa0 \\xa0 \\xa0 \\xa0 \\xa0 \\xa0 \\xa0 \\xa0 \\xa0 \\xa0 \\xa0 \\xa0 \\xa0 \\xa0 \\xa0 \\xa0 place-noida\\xa0 date-\\xa0 \\xa0 ● role : wordpress developer\\xa0   title\\xa0 memberslesbrown\\xa0 technology\\xa0 php,mysql,html5,css3,javascript\\xa0 description\\xa0 ● les brown and his team are committed to\\xa0 motivating and training today’s\\xa0 generation to be achievers and leaders.\\xa0 bringing together the most powerful\\xa0 group of professional speakers, trainers,\\xa0 and coaches worldwide to make a\\xa0 difference across the globe today.\\xa0 responsibility\\xa0 ● i started the website with theme\\xa0 customization and integrated learndash\\xa0 plugin for courses.\\xa0 \\xa0 ● created custom event plugin with\\xa0 membership features.\\xa0 \\xa0 ●  team size - 4\\xa0 \\xa0 ●  role : wordpress developer\\xa0           .  \\xa0 copyright © 2008-2018. ongraph technologies pvt. ltd.                                                                                                     sales@ongraph.com\\xa0 \\xa0 \\xa0 \\xa0 \\xa0 copyright © 2008-2018. ongraph technologies pvt. ltd.                                                                                                     sales@ongraph.com\\xa0 \\xa0 \\xa0 '"
      ]
     },
     "execution_count": 36,
     "metadata": {},
     "output_type": "execute_result"
    }
   ],
   "source": [
    "sample[-3]"
   ]
  },
  {
   "cell_type": "code",
   "execution_count": 32,
   "metadata": {},
   "outputs": [],
   "source": [
    "txt_2 = []\n",
    "for i in range(len(sample)):\n",
    "    text_2 = [final_cleaned_2[i], job_1]\n",
    "    txt_2.append(text_2) "
   ]
  },
  {
   "cell_type": "code",
   "execution_count": 33,
   "metadata": {},
   "outputs": [
    {
     "data": {
      "text/plain": [
       "[array([[1.        , 0.10222382],\n",
       "        [0.10222382, 1.        ]]),\n",
       " array([[1.        , 0.08395666],\n",
       "        [0.08395666, 1.        ]]),\n",
       " array([[1.        , 0.09731671],\n",
       "        [0.09731671, 1.        ]]),\n",
       " array([[1.        , 0.10862389],\n",
       "        [0.10862389, 1.        ]]),\n",
       " array([[1.        , 0.13429106],\n",
       "        [0.13429106, 1.        ]]),\n",
       " array([[1.        , 0.12015537],\n",
       "        [0.12015537, 1.        ]]),\n",
       " array([[1.        , 0.09049955],\n",
       "        [0.09049955, 1.        ]]),\n",
       " array([[1.       , 0.0876356],\n",
       "        [0.0876356, 1.       ]]),\n",
       " array([[1.        , 0.09824309],\n",
       "        [0.09824309, 1.        ]]),\n",
       " array([[1.        , 0.12708966],\n",
       "        [0.12708966, 1.        ]]),\n",
       " array([[1.       , 0.0772366],\n",
       "        [0.0772366, 1.       ]]),\n",
       " array([[1.        , 0.08702345],\n",
       "        [0.08702345, 1.        ]]),\n",
       " array([[1.        , 0.06258015],\n",
       "        [0.06258015, 1.        ]])]"
      ]
     },
     "execution_count": 33,
     "metadata": {},
     "output_type": "execute_result"
    }
   ],
   "source": [
    "tfid_inst_2 = TfidfVectorizer(analyzer='word', ngram_range=(1, 3), min_df=0)\n",
    "score_2 = []\n",
    "for i in range(len(sample)):\n",
    "    tfid_matrix_1 = tfid_inst_2.fit_transform(txt_2[i])\n",
    "\n",
    "    cosine_similarity = linear_kernel(tfid_matrix_1)\n",
    "\n",
    "    score_2.append(cosine_similarity)\n",
    "score_2"
   ]
  },
  {
   "cell_type": "code",
   "execution_count": 114,
   "metadata": {},
   "outputs": [
    {
     "name": "stdout",
     "output_type": "stream",
     "text": [
      "role frontend and backend developer title karmony technology php mysql wordpress woocommerce paypal social media api description date role wordpress developer title memberslesbrown technology php mysql javascript description a highly experienced and creative wordpress developer with seven years experience in a variety of exciting projects title underwearnation technology php mysql wordpress woocommerce paypal social media api description team size role wordpress developer \n",
      "\n",
      "\n",
      "integrated google map api google analytics team size role frontend and backend developer title karmony technology php mysql wordpress woocommerce paypal social media api description this website provide a broader variety of needs than most rather than specializing in one style of training coaches shop it helps people find the style that works for them and offers coaches versed in a variety of fitness methodologies i worked on membership features shop schedule plugin and integrated social media api team size copyright\n"
     ]
    }
   ],
   "source": [
    "print((final_cleaned_1[-3]), '\\n\\n')\n",
    "print(final_cleaned_2[-3])"
   ]
  },
  {
   "cell_type": "code",
   "execution_count": 30,
   "metadata": {
    "scrolled": false
   },
   "outputs": [
    {
     "data": {
      "text/plain": [
       "{'highly': 1,\n",
       " 'experienced': 1,\n",
       " 'creative': 1,\n",
       " 'developer': 8,\n",
       " 'seven': 1,\n",
       " 'experience': 6,\n",
       " 'variety': 3,\n",
       " 'exciting': 1,\n",
       " 'level': 1,\n",
       " 'head': 1,\n",
       " 'rational': 1,\n",
       " 'approach': 1,\n",
       " 'problem': 1,\n",
       " 'combined': 1,\n",
       " 'passion': 1,\n",
       " 'innovative': 1,\n",
       " 'fresh': 1,\n",
       " 'led': 1,\n",
       " 'portfolio': 1,\n",
       " 'impressive': 1,\n",
       " 'strong': 1,\n",
       " 'communicator': 1,\n",
       " 'ability': 1,\n",
       " 'convey': 1,\n",
       " 'clearly': 1,\n",
       " 'emphasis': 1,\n",
       " 'client': 2,\n",
       " 'satisfaction': 1,\n",
       " 'technical': 1,\n",
       " 'personal': 2,\n",
       " 'communication': 1,\n",
       " 'organization': 1,\n",
       " 'team': 6,\n",
       " 'player': 1,\n",
       " 'creativity': 1,\n",
       " 'present': 1,\n",
       " 'working': 1,\n",
       " 'extensive': 1,\n",
       " 'theme': 2,\n",
       " 'versed': 2,\n",
       " 'time': 1,\n",
       " 'education': 1,\n",
       " 'master': 1,\n",
       " 'computer': 1,\n",
       " 'application': 1,\n",
       " 'project': 1,\n",
       " 'title': 4,\n",
       " 'technology': 4,\n",
       " 'social': 6,\n",
       " 'media': 4,\n",
       " 'description': 4,\n",
       " 'kind': 1,\n",
       " 'category': 1,\n",
       " 'premium': 1,\n",
       " 'underwear': 1,\n",
       " 'brand': 1,\n",
       " 'platform': 1,\n",
       " 'providing': 1,\n",
       " 'super': 1,\n",
       " 'interface': 1,\n",
       " 'recurring': 1,\n",
       " 'payment': 2,\n",
       " 'module': 1,\n",
       " 'place': 2,\n",
       " 'hassle': 1,\n",
       " 'free': 1,\n",
       " 'month': 1,\n",
       " 'responsibility': 4,\n",
       " 'scratch': 2,\n",
       " 'mock': 1,\n",
       " 'creation': 1,\n",
       " 'integration': 1,\n",
       " 'contact': 1,\n",
       " 'form': 2,\n",
       " 'shipping': 1,\n",
       " 'size': 4,\n",
       " 'role': 4,\n",
       " 'domain': 1,\n",
       " 'construction': 1,\n",
       " 'travel': 2,\n",
       " 'tourism': 1,\n",
       " 'educational': 1,\n",
       " 'schedule': 2,\n",
       " 'journey': 1,\n",
       " 'specialize': 1,\n",
       " 'tailor': 1,\n",
       " 'fit': 1,\n",
       " 'guest': 1,\n",
       " 'reflected': 1,\n",
       " 'style': 3,\n",
       " 'based': 3,\n",
       " 'custom': 3,\n",
       " 'needs': 2,\n",
       " 'tour': 1,\n",
       " 'trip': 1,\n",
       " 'offering': 1,\n",
       " 'end': 1,\n",
       " 'ie': 1,\n",
       " 'designing': 1,\n",
       " 'worked': 2,\n",
       " 'feature': 2,\n",
       " 'booking': 1,\n",
       " 'newsletter': 1,\n",
       " 'subscription': 1,\n",
       " 'map': 1,\n",
       " 'analytics': 1,\n",
       " 'provide': 2,\n",
       " 'training': 2,\n",
       " 'shop': 3,\n",
       " 'people': 1,\n",
       " 'find': 1,\n",
       " 'works': 1,\n",
       " 'fitness': 1,\n",
       " 'different': 2,\n",
       " 'membership': 3,\n",
       " 'idea': 1,\n",
       " 'built': 1,\n",
       " 'copyright': 3,\n",
       " 'brown': 1,\n",
       " 'today': 2,\n",
       " 'generation': 1,\n",
       " 'powerful': 1,\n",
       " 'group': 1,\n",
       " 'professional': 1,\n",
       " 'difference': 1,\n",
       " 'globe': 1,\n",
       " 'event': 1}"
      ]
     },
     "execution_count": 30,
     "metadata": {},
     "output_type": "execute_result"
    }
   ],
   "source": [
    "docx = nlp(sample[-3])\n",
    "word_frc = {}\n",
    "for word in docx:\n",
    "    if word.text not in stopwords:\n",
    "         if word.text in words:\n",
    "            if word.text not in word_frc.keys():\n",
    "                word_frc[word.text] = 1\n",
    "            else:\n",
    "                word_frc[word.text] += 1\n",
    "word_frc"
   ]
  },
  {
   "cell_type": "code",
   "execution_count": 126,
   "metadata": {},
   "outputs": [
    {
     "name": "stdout",
     "output_type": "stream",
     "text": [
      "yes\n"
     ]
    }
   ],
   "source": [
    "for word in stopwords:\n",
    "    if (word=='the'):\n",
    "        print('yes')"
   ]
  },
  {
   "cell_type": "code",
   "execution_count": 235,
   "metadata": {},
   "outputs": [
    {
     "data": {
      "text/plain": [
       "0.13829787234042545"
      ]
     },
     "execution_count": 235,
     "metadata": {},
     "output_type": "execute_result"
    }
   ],
   "source": [
    "import numpy as np\n",
    "max_frec = max(word_frc.values())\n",
    "for word in word_frc.keys():\n",
    "        word_frc[word] =(word_frc[word]/max_frec)\n",
    "d=word_frc.get('wordpress')\n",
    "d"
   ]
  },
  {
   "cell_type": "code",
   "execution_count": null,
   "metadata": {},
   "outputs": [],
   "source": []
  }
 ],
 "metadata": {
  "kernelspec": {
   "display_name": "Python 3.8.3 64-bit (conda)",
   "name": "python383jvsc74a57bd0cd8ac7ed5329ff1f59a8356dfddf06d159cf18414acbfd7b13d1d5cd1cbb5d7d"
  },
  "language_info": {
   "codemirror_mode": {
    "name": "ipython",
    "version": 3
   },
   "file_extension": ".py",
   "mimetype": "text/x-python",
   "name": "python",
   "nbconvert_exporter": "python",
   "pygments_lexer": "ipython3",
   "version": "3.8.3"
  }
 },
 "nbformat": 4,
 "nbformat_minor": 4
}